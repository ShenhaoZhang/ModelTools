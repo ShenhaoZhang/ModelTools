{
 "cells": [
  {
   "cell_type": "code",
   "execution_count": null,
   "metadata": {},
   "outputs": [],
   "source": [
    "from regression.linear_model import LinearModel\n",
    "import plotnine as gg\n",
    "import patsy\n",
    "import numpy as np\n",
    "import pandas as pd\n",
    "from scipy.stats import bootstrap\n",
    "from statsmodels.formula.api import ols"
   ]
  },
  {
   "cell_type": "code",
   "execution_count": null,
   "metadata": {},
   "outputs": [],
   "source": [
    "data = pd.DataFrame({\n",
    "    'x1':np.random.normal(size=1000),\n",
    "    'x2':np.random.normal(size=1000)\n",
    "}).assign(y=lambda dt:np.random.normal(np.sin(dt.x1),scale=0.2))"
   ]
  },
  {
   "cell_type": "code",
   "execution_count": null,
   "metadata": {},
   "outputs": [],
   "source": [
    "mod=LinearModel('y~bs(x1,df=3)',data=data).fit(method='OLS')"
   ]
  },
  {
   "cell_type": "code",
   "execution_count": null,
   "metadata": {},
   "outputs": [],
   "source": [
    "mod.bootstrap_param()\n",
    "mod.coef()"
   ]
  },
  {
   "cell_type": "code",
   "execution_count": null,
   "metadata": {},
   "outputs": [],
   "source": [
    "ols('y~x1',data=data).fit().summary()"
   ]
  },
  {
   "cell_type": "code",
   "execution_count": null,
   "metadata": {},
   "outputs": [],
   "source": [
    "mod.predict()"
   ]
  },
  {
   "cell_type": "code",
   "execution_count": null,
   "metadata": {},
   "outputs": [],
   "source": [
    "mod.predict(ci_method='bootstrap')"
   ]
  },
  {
   "cell_type": "code",
   "execution_count": null,
   "metadata": {},
   "outputs": [],
   "source": [
    "(\n",
    "    mod.predict(ci_method='bootstrap')\n",
    "    .pipe(gg.ggplot)\n",
    "    + gg.aes(x='x1')\n",
    "    + gg.geom_point(gg.aes(y='y'))\n",
    "    + gg.geom_line(gg.aes(y='pred'),color='red')\n",
    "    + gg.geom_ribbon(gg.aes(ymin='pred_low',ymax='pred_up'),alpha=0.3)\n",
    "    + gg.geom_ribbon(gg.aes(ymin='ci_low',ymax='ci_up'),alpha=0.3,fill='red')\n",
    "    + gg.stat_function(fun=lambda x:np.sin(x),color='blue')\n",
    ")"
   ]
  },
  {
   "cell_type": "code",
   "execution_count": null,
   "metadata": {},
   "outputs": [],
   "source": [
    "(\n",
    "    mod.predict(ci_method='bootstrap')\n",
    "    .sample(n=30)\n",
    "    .pipe(gg.ggplot)\n",
    "    + gg.aes(x='y',y='pred')\n",
    "    + gg.geom_point()\n",
    "    + gg.geom_pointrange(gg.aes(ymax='pred_High',ymin='pred_Low'))\n",
    "    + gg.geom_abline(slope=1,intercept=0)\n",
    ")"
   ]
  },
  {
   "cell_type": "code",
   "execution_count": null,
   "metadata": {},
   "outputs": [],
   "source": [
    "x=np.random.normal(size=[1000,2])\n",
    "y=np.random.normal(size=1000)\n",
    "\n",
    "from sklearn.linear_model import LinearRegression\n",
    "\n",
    "def ttt(*args):\n",
    "\n",
    "    try:\n",
    "        x = np.column_stack(args[:-1])\n",
    "        y = args[-1]\n",
    "        coef=LinearRegression().fit(x,y).coef_\n",
    "        return coef\n",
    "    except:\n",
    "        # print(x)\n",
    "        print('x',args)\n",
    "        # print('y',y.shape)\n",
    "        raise Exception()\n",
    "tt=bootstrap((x[:,0],x[:,1],y),ttt,vectorized=False,paired=True)"
   ]
  },
  {
   "cell_type": "code",
   "execution_count": null,
   "metadata": {},
   "outputs": [],
   "source": [
    "(\n",
    "    gg.ggplot(mod.predict())\n",
    "    + gg.aes('wt','mpg')\n",
    "    + gg.geom_point()\n",
    "    + gg.geom_line(gg.aes(y='pred'))\n",
    "    + gg.geom_ribbon(gg.aes(ymin='pred_low',ymax='pred_up'),alpha=0.3)\n",
    ")"
   ]
  },
  {
   "cell_type": "code",
   "execution_count": null,
   "metadata": {},
   "outputs": [],
   "source": [
    "x= np.random.normal(loc=0,scale=1,size=[1000,2])\n",
    "bootstrap((x,),np.mean,confidence_level=0.9,n_resamples=10)"
   ]
  },
  {
   "cell_type": "code",
   "execution_count": null,
   "metadata": {},
   "outputs": [],
   "source": [
    "np.mean(x)"
   ]
  }
 ],
 "metadata": {
  "kernelspec": {
   "display_name": "dev",
   "language": "python",
   "name": "python3"
  },
  "language_info": {
   "codemirror_mode": {
    "name": "ipython",
    "version": 3
   },
   "file_extension": ".py",
   "mimetype": "text/x-python",
   "name": "python",
   "nbconvert_exporter": "python",
   "pygments_lexer": "ipython3",
   "version": "3.11.0"
  },
  "orig_nbformat": 4
 },
 "nbformat": 4,
 "nbformat_minor": 2
}
