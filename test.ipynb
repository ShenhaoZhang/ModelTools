{
 "cells": [
  {
   "cell_type": "code",
   "execution_count": null,
   "metadata": {},
   "outputs": [],
   "source": [
    "import numpy as np\n",
    "import pandas as pd\n",
    "from statsmodels.formula.api import ols\n",
    "import plotnine as gg\n",
    "\n",
    "from ModelTools.regression.linear_model import LinearModel"
   ]
  },
  {
   "cell_type": "code",
   "execution_count": null,
   "metadata": {},
   "outputs": [],
   "source": [
    "rng = np.random.default_rng(1)\n",
    "n = 100\n",
    "data = pd.DataFrame({\n",
    "    'x1':rng.normal(size=n),\n",
    "    'x2':rng.normal(size=n).cumsum(),\n",
    "    'x3':rng.normal(size=n),\n",
    "    'x4':rng.normal(size=n)\n",
    "}).assign(\n",
    "    y1=lambda dt:rng.normal(1+1*dt.x1+2*dt.x2+3*dt.x3+4*dt.x4+0.4*dt.x4**2,scale=1)+rng.standard_t(df=1,size=n),\n",
    "    y2=lambda dt:rng.normal(1+2*dt.x2,scale=1),\n",
    "    y3=lambda dt:rng.normal(1+(dt.x2),scale=100*np.exp(dt.x2)/(1+np.exp(dt.x2)))\n",
    ")\n",
    "\n",
    "\n",
    "\n",
    "formula = 'y2~x1+x2'\n",
    "mod=LinearModel(formula,data=data).fit(method='OLS')\n",
    "\n",
    "mod.get_coef()"
   ]
  },
  {
   "cell_type": "code",
   "execution_count": null,
   "metadata": {},
   "outputs": [],
   "source": [
    "mod.plot_coef_dist()"
   ]
  },
  {
   "cell_type": "code",
   "execution_count": null,
   "metadata": {},
   "outputs": [],
   "source": [
    "mod.get_metric(bootstrap=False)"
   ]
  },
  {
   "cell_type": "code",
   "execution_count": null,
   "metadata": {},
   "outputs": [],
   "source": [
    "mod.plot_prediction(data_grid={'x2':np.linspace(-9,2,30),'x1':[1,10],'x3':[1,2],'x4':[1,2]})"
   ]
  },
  {
   "cell_type": "code",
   "execution_count": null,
   "metadata": {},
   "outputs": [],
   "source": [
    "mod.plot_check()"
   ]
  },
  {
   "cell_type": "code",
   "execution_count": null,
   "metadata": {},
   "outputs": [],
   "source": [
    "np.random.ch"
   ]
  },
  {
   "cell_type": "code",
   "execution_count": null,
   "metadata": {},
   "outputs": [],
   "source": [
    "mod.get_metric(bootstrap=True)"
   ]
  },
  {
   "cell_type": "code",
   "execution_count": null,
   "metadata": {},
   "outputs": [],
   "source": [
    "gg.options.figure_size=[9,9]\n",
    "(\n",
    "    mod.get_metric(bootstrap=True,summary=False)\n",
    "    .melt()\n",
    "    .pipe(gg.ggplot)\n",
    "    + gg.aes(x='value')\n",
    "    + gg.geom_density()\n",
    "    + gg.facet_wrap('variable',scales='free')\n",
    ")"
   ]
  },
  {
   "cell_type": "code",
   "execution_count": null,
   "metadata": {},
   "outputs": [],
   "source": [
    "ols(formula,data=data).fit().summary()"
   ]
  },
  {
   "cell_type": "code",
   "execution_count": null,
   "metadata": {},
   "outputs": [],
   "source": [
    "(\n",
    "    mod.predict(ci_method='bootstrap',alpha=0.05)\n",
    "    .pipe(gg.ggplot)\n",
    "    + gg.aes(x='x1')\n",
    "    # + gg.geom_point(gg.aes(y='y'))\n",
    "    + gg.geom_line(gg.aes(y='mean'),color='red')\n",
    "    + gg.geom_ribbon(gg.aes(ymin='obs_ci_lower',ymax='obs_ci_upper'),alpha=0.3)\n",
    "    + gg.geom_ribbon(gg.aes(ymin='mean_ci_lower',ymax='mean_ci_upper'),alpha=0.3,fill='red')\n",
    "    # + gg.stat_function(fun=lambda x:np.sin(x),color='blue')\n",
    ")"
   ]
  },
  {
   "cell_type": "code",
   "execution_count": null,
   "metadata": {},
   "outputs": [],
   "source": [
    "(\n",
    "    mod.coef_dist_boot\n",
    "    .melt()\n",
    "    .pipe(gg.ggplot)\n",
    "    + gg.aes(x='value')\n",
    "    + gg.geom_density()\n",
    "    + gg.facet_wrap('variable',ncol=1,scales='free_y')\n",
    ")"
   ]
  },
  {
   "cell_type": "code",
   "execution_count": null,
   "metadata": {},
   "outputs": [],
   "source": [
    "(\n",
    "    mod.coef_dist_boot\n",
    "    .pipe(gg.ggplot)\n",
    "    + gg.aes(x='Intercept',y='x1')\n",
    "    + gg.geom_pointdensity()\n",
    "    + gg.geom_density_2d()\n",
    ")"
   ]
  },
  {
   "cell_type": "code",
   "execution_count": null,
   "metadata": {},
   "outputs": [],
   "source": [
    "import numpy as np\n",
    "import pandas as pd\n",
    "import matplotlib.pyplot as plt \n",
    "from statsmodels.nonparametric.smoothers_lowess import lowess\n",
    "from scipy.stats import norm\n",
    "from scipy.stats import gaussian_kde\n",
    "\n",
    "plt.style.use('ggplot')\n",
    "%config InlineBackend.figure_format = 'retina'\n",
    "\n",
    "def plot_check_model(\n",
    "    residual,\n",
    "    fitted_value,\n",
    "    boot_pred,\n",
    "    y_name='y'\n",
    "):\n",
    "    y_value = fitted_value + residual\n",
    "    std_residual = (residual - np.mean(residual))/np.std(residual)\n",
    "    abs_std_residual = np.abs(std_residual)\n",
    "    fig,ax = plt.subplots(ncols=2,nrows=2,figsize=[10,6])\n",
    "    fig.tight_layout(h_pad=5,w_pad=2)\n",
    "    fontdict = {'fontsize':10}\n",
    "    \n",
    "    smooth = lowess(residual,fitted_value)\n",
    "    ax[0,0].scatter(x=fitted_value,y=residual,s=10,c='#1b6ca8')\n",
    "    ax[0,0].plot(smooth[:,0],smooth[:,1],color='green')\n",
    "    ax[0,0].hlines(y=0,xmin=fitted_value.min(),xmax=fitted_value.max(),linestyles='--',color='black')\n",
    "    ax[0,0].set_title('Linearity \\nReference line should be flate and horizontal',loc='left',fontdict=fontdict)\n",
    "    ax[0,0].set_xlabel('Fitted values')\n",
    "    ax[0,0].set_ylabel('Residuals')\n",
    "\n",
    "    ax[0,1].set_title('Homogeneity of Variance \\nReference line should be flat and horizontal',loc='left',fontdict=fontdict)\n",
    "    ax[0,1].set_xlabel('Fitted values')\n",
    "    ax[0,1].set_ylabel('abs(std_residuals)')\n",
    "    smooth = lowess(abs_std_residual,fitted_value)\n",
    "    ax[0,1].scatter(x=fitted_value,y=abs_std_residual,s=10,c='#1b6ca8')\n",
    "    ax[0,1].plot(smooth[:,0],smooth[:,1],color='green')\n",
    "    \n",
    "    \n",
    "    ax[1,0].set_title('Normality of Residuals \\nDots should fall along the line',loc='left',fontdict=fontdict)\n",
    "    ax[1,0].set_xlabel('Standard Normal Distribution Quantiles')\n",
    "    ax[1,0].set_ylabel('sample Quantiles')\n",
    "    norm_quant,emp_quant = get_quantiles(std_residual)\n",
    "    ax[1,0].plot([norm_quant.min(),norm_quant.max()],[norm_quant.min(),norm_quant.max()],c='green')\n",
    "    ax[1,0].scatter(x=norm_quant,y=emp_quant,c='#1b6ca8',s=10)\n",
    "    \n",
    "    ax[1,1].set_title('Posterior Predictive Check \\nModel-predicted lines should resemble observed data line',loc='left',fontdict=fontdict)\n",
    "    ax[1,1].set_xlabel(y_name)\n",
    "    ax[1,1].set_ylabel('Density')\n",
    "    for pred in boot_pred:\n",
    "        plot_kde(pred,ax[1,1],c='#1b6ca8',alpha=0.1)\n",
    "    plot_kde(y_value,ax[1,1],c='green')\n",
    "    plt.show()\n",
    "\n",
    "def get_quantiles(x):\n",
    "    x = np.sort(x)\n",
    "    rank = (np.argsort(x)+1) / (len(x)+1)\n",
    "    norm_quant = norm(loc=0,scale=1).ppf(rank)\n",
    "    emp_quant = (x-np.mean(x))/np.std(x)\n",
    "    return norm_quant,emp_quant\n",
    "\n",
    "def plot_kde(x,ax,c,linewidth=1,alpha=1):\n",
    "    x = np.sort(x)\n",
    "    pdf = gaussian_kde(x).pdf(x)\n",
    "    ax.plot(x,pdf,color=c,linewidth=linewidth,alpha=alpha)\n",
    "    ax.ticklabel_format(style='sci',axis='y',scilimits=[0,1],useMathText=True)\n",
    "    ax.get_yaxis().get_offset_text().set_visible(False)\n",
    "\n",
    "rng = np.random.default_rng(0)\n",
    "x = np.linspace(5,5.1,1000)\n",
    "y = rng.normal(loc=0,scale=1,size=1000)\n",
    "bp = [rng.normal(loc=1,scale=1,size=1000) for i in range(30)]\n",
    "\n",
    "plot_check_model(residual=y,fitted_value=x,boot_pred=bp)"
   ]
  }
 ],
 "metadata": {
  "kernelspec": {
   "display_name": "dev",
   "language": "python",
   "name": "python3"
  },
  "language_info": {
   "codemirror_mode": {
    "name": "ipython",
    "version": 3
   },
   "file_extension": ".py",
   "mimetype": "text/x-python",
   "name": "python",
   "nbconvert_exporter": "python",
   "pygments_lexer": "ipython3",
   "version": "3.10.9"
  },
  "orig_nbformat": 4
 },
 "nbformat": 4,
 "nbformat_minor": 2
}
