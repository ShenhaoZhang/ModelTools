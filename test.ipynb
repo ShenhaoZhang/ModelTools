{
 "cells": [
  {
   "cell_type": "code",
   "execution_count": null,
   "metadata": {},
   "outputs": [],
   "source": [
    "import numpy as np\n",
    "import pandas as pd\n",
    "from statsmodels.formula.api import ols\n",
    "import plotnine as gg\n",
    "\n",
    "from regression.linear_model import LinearModel"
   ]
  },
  {
   "cell_type": "code",
   "execution_count": null,
   "metadata": {},
   "outputs": [],
   "source": [
    "rng = np.random.default_rng(1)\n",
    "data = pd.DataFrame({\n",
    "    'x1':rng.normal(size=1000),\n",
    "    'x2':rng.normal(size=1000)\n",
    "}).assign(y=lambda dt:rng.normal(1+dt.x1,scale=0.2))\n",
    "\n",
    "mod=LinearModel('y~bs(x1,3)',data=data).fit(method='OLS')\n",
    "mod.bootstrap_param(n_resamples=1000)\n",
    "\n",
    "mod.coef()"
   ]
  },
  {
   "cell_type": "code",
   "execution_count": null,
   "metadata": {},
   "outputs": [],
   "source": [
    "ols('y~bs(x1,3)',data=data).fit().summary()"
   ]
  },
  {
   "cell_type": "code",
   "execution_count": null,
   "metadata": {},
   "outputs": [],
   "source": [
    "(\n",
    "    mod.predict(ci_method='bootstrap',alpha=0.05)\n",
    "    .pipe(gg.ggplot)\n",
    "    + gg.aes(x='x1')\n",
    "    + gg.geom_point(gg.aes(y='y'))\n",
    "    + gg.geom_line(gg.aes(y='pred'),color='red')\n",
    "    + gg.geom_ribbon(gg.aes(ymin='pred_low',ymax='pred_up'),alpha=0.3)\n",
    "    + gg.geom_ribbon(gg.aes(ymin='ci_low',ymax='ci_up'),alpha=0.3,fill='red')\n",
    "    # + gg.stat_function(fun=lambda x:np.sin(x),color='blue')\n",
    ")"
   ]
  },
  {
   "cell_type": "code",
   "execution_count": null,
   "metadata": {},
   "outputs": [],
   "source": [
    "(\n",
    "    mod.param_dist_boot\n",
    "    .melt()\n",
    "    .pipe(gg.ggplot)\n",
    "    + gg.aes(x='value')\n",
    "    + gg.geom_density()\n",
    "    + gg.facet_wrap('variable',ncol=1,scales='free')\n",
    ")"
   ]
  },
  {
   "cell_type": "code",
   "execution_count": null,
   "metadata": {},
   "outputs": [],
   "source": [
    "(\n",
    "    mod.param_dist_boot\n",
    "    .pipe(gg.ggplot)\n",
    "    + gg.aes(x='Intercept',y='x1')\n",
    "    + gg.geom_point(size=0.1)\n",
    "    + gg.geom_pointdensity()\n",
    ")"
   ]
  },
  {
   "cell_type": "code",
   "execution_count": null,
   "metadata": {},
   "outputs": [],
   "source": [
    "x"
   ]
  },
  {
   "cell_type": "code",
   "execution_count": null,
   "metadata": {},
   "outputs": [],
   "source": [
    "from scipy.stats import gaussian_kde\n",
    "x = rng.normal(size=1000)\n",
    "x.sort()\n",
    "kde = gaussian_kde(x)\n",
    "kde(x)"
   ]
  },
  {
   "cell_type": "code",
   "execution_count": null,
   "metadata": {},
   "outputs": [],
   "source": [
    "1 - np.sum(mod.param_dist_boot.x2.to_numpy()>0.0429)/1000"
   ]
  },
  {
   "cell_type": "code",
   "execution_count": null,
   "metadata": {},
   "outputs": [],
   "source": [
    "x = rng.normal(size=1000,loc=1)\n",
    "\n",
    "def get_p_value(\n",
    "    sample:np.ndarray,\n",
    "    statistic:float,\n",
    "    alternative='two_side'\n",
    ") -> float:\n",
    "    sample    = sample.flatten()\n",
    "    n         = len(sample)\n",
    "    statistic = statistic\n",
    "    \n",
    "    if alternative == 'two_side':\n",
    "        p_value = (np.sum(statistic < sample) + np.sum(-statistic > sample)) / n\n",
    "    elif alternative == 'greater':\n",
    "        p_value = np.sum(-statistic > sample) / n\n",
    "    elif alternative == 'less':\n",
    "        p_value = np.sum(statistic < sample) / n\n",
    "        \n",
    "    return p_value\n",
    "get_p_value(x,2.96)"
   ]
  },
  {
   "cell_type": "code",
   "execution_count": null,
   "metadata": {},
   "outputs": [],
   "source": [
    "gg.qplot(mod.param_dist_boot.x2)+gg.geom_vline(xintercept=0)"
   ]
  },
  {
   "cell_type": "code",
   "execution_count": null,
   "metadata": {},
   "outputs": [],
   "source": [
    "mod.param_dist_boot"
   ]
  },
  {
   "cell_type": "code",
   "execution_count": null,
   "metadata": {},
   "outputs": [],
   "source": [
    "tt = mod.param_dist_boot.x2.mean()\n",
    "diff = np.abs(tt-0.0429)\n",
    "((mod.param_dist_boot.x2>(tt-diff))&(mod.param_dist_boot.x2<(tt+diff))).sum() / 1000"
   ]
  },
  {
   "cell_type": "code",
   "execution_count": null,
   "metadata": {},
   "outputs": [],
   "source": [
    "(mod.param_dist_boot.x1>1.0453).mean() * 2"
   ]
  },
  {
   "cell_type": "code",
   "execution_count": null,
   "metadata": {},
   "outputs": [],
   "source": [
    "from scipy.stats import ttest_1samp\n",
    "ttest_1samp(\n",
    "    mod.param_dist_boot.x2,\n",
    "    0\n",
    ")"
   ]
  }
 ],
 "metadata": {
  "kernelspec": {
   "display_name": "dev",
   "language": "python",
   "name": "python3"
  },
  "language_info": {
   "codemirror_mode": {
    "name": "ipython",
    "version": 3
   },
   "file_extension": ".py",
   "mimetype": "text/x-python",
   "name": "python",
   "nbconvert_exporter": "python",
   "pygments_lexer": "ipython3",
   "version": "3.10.9"
  },
  "orig_nbformat": 4
 },
 "nbformat": 4,
 "nbformat_minor": 2
}
