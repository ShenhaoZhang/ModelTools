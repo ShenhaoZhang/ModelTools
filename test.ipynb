{
 "cells": [
  {
   "cell_type": "code",
   "execution_count": null,
   "metadata": {},
   "outputs": [],
   "source": [
    "import numpy as np\n",
    "import pandas as pd\n",
    "from statsmodels.formula.api import ols\n",
    "import plotnine as gg\n",
    "\n",
    "from ModelTools.regression.linear_model import LinearModel"
   ]
  },
  {
   "cell_type": "code",
   "execution_count": null,
   "metadata": {},
   "outputs": [],
   "source": [
    "rng = np.random.default_rng(1)\n",
    "data = pd.DataFrame({\n",
    "    'x1':rng.normal(size=100).cumsum(),\n",
    "    'x2':rng.normal(size=100).cumsum(),\n",
    "    'x3':rng.normal(size=100).cumsum(),\n",
    "    'x4':rng.normal(size=100)\n",
    "}).assign(\n",
    "    y1=lambda dt:rng.normal(1+1*dt.x1+2*dt.x2+3*dt.x3+4*dt.x4+0.4*dt.x4**2,scale=1)+rng.standard_t(df=1,size=100),\n",
    "    y2=lambda dt:rng.normal(1+1*dt.x1+2*dt.x2+3*dt.x3+10*np.cos(dt.x4),scale=1)\n",
    ")\n",
    "\n",
    "\n",
    "\n",
    "formula = 'y2~x1+x2+x3+bs(x4,df=3)'\n",
    "mod=LinearModel(formula,data=data).fit(method='OLS')\n",
    "\n",
    "mod.get_coef()"
   ]
  },
  {
   "cell_type": "code",
   "execution_count": null,
   "metadata": {},
   "outputs": [],
   "source": [
    "df=mod.predict(data_grid={'x1':np.linspace(-1,1,100),'x4':[1,0]})\n",
    "df"
   ]
  },
  {
   "cell_type": "code",
   "execution_count": null,
   "metadata": {},
   "outputs": [],
   "source": [
    "mod.get_metric()"
   ]
  },
  {
   "cell_type": "code",
   "execution_count": null,
   "metadata": {},
   "outputs": [],
   "source": [
    "mod.plot_prediction(data_grid={'x2':np.linspace(-9,2,30),'x1':[1,10],'x3':[1,2],'x4':[1,2]})"
   ]
  },
  {
   "cell_type": "code",
   "execution_count": null,
   "metadata": {},
   "outputs": [],
   "source": [
    "mod.get_metric(bootstrap=True)"
   ]
  },
  {
   "cell_type": "code",
   "execution_count": null,
   "metadata": {},
   "outputs": [],
   "source": [
    "gg.options.figure_size=[9,9]\n",
    "(\n",
    "    mod.get_metric(bootstrap=True,summary=False)\n",
    "    .melt()\n",
    "    .pipe(gg.ggplot)\n",
    "    + gg.aes(x='value')\n",
    "    + gg.geom_density()\n",
    "    + gg.facet_wrap('variable',scales='free')\n",
    ")"
   ]
  },
  {
   "cell_type": "code",
   "execution_count": null,
   "metadata": {},
   "outputs": [],
   "source": [
    "ols(formula,data=data).fit().summary()"
   ]
  },
  {
   "cell_type": "code",
   "execution_count": null,
   "metadata": {},
   "outputs": [],
   "source": [
    "(\n",
    "    mod.predict(ci_method='bootstrap',alpha=0.05)\n",
    "    .pipe(gg.ggplot)\n",
    "    + gg.aes(x='x1')\n",
    "    # + gg.geom_point(gg.aes(y='y'))\n",
    "    + gg.geom_line(gg.aes(y='mean'),color='red')\n",
    "    + gg.geom_ribbon(gg.aes(ymin='obs_ci_lower',ymax='obs_ci_upper'),alpha=0.3)\n",
    "    + gg.geom_ribbon(gg.aes(ymin='mean_ci_lower',ymax='mean_ci_upper'),alpha=0.3,fill='red')\n",
    "    # + gg.stat_function(fun=lambda x:np.sin(x),color='blue')\n",
    ")"
   ]
  },
  {
   "cell_type": "code",
   "execution_count": null,
   "metadata": {},
   "outputs": [],
   "source": [
    "(\n",
    "    mod.coef_dist_boot\n",
    "    .melt()\n",
    "    .pipe(gg.ggplot)\n",
    "    + gg.aes(x='value')\n",
    "    + gg.geom_density()\n",
    "    + gg.facet_wrap('variable',ncol=1,scales='free_y')\n",
    ")"
   ]
  },
  {
   "cell_type": "code",
   "execution_count": null,
   "metadata": {},
   "outputs": [],
   "source": [
    "(\n",
    "    mod.coef_dist_boot\n",
    "    .pipe(gg.ggplot)\n",
    "    + gg.aes(x='Intercept',y='x1')\n",
    "    + gg.geom_pointdensity()\n",
    "    + gg.geom_density_2d()\n",
    ")"
   ]
  }
 ],
 "metadata": {
  "kernelspec": {
   "display_name": "dev",
   "language": "python",
   "name": "python3"
  },
  "language_info": {
   "codemirror_mode": {
    "name": "ipython",
    "version": 3
   },
   "file_extension": ".py",
   "mimetype": "text/x-python",
   "name": "python",
   "nbconvert_exporter": "python",
   "pygments_lexer": "ipython3",
   "version": "3.11.4"
  },
  "orig_nbformat": 4
 },
 "nbformat": 4,
 "nbformat_minor": 2
}
