{
 "cells": [
  {
   "cell_type": "code",
   "execution_count": null,
   "metadata": {},
   "outputs": [],
   "source": [
    "from ModelTools.Metric import Metric\n",
    "from ModelTools.RegBuilder import RegBuilder\n",
    "from ModelTools._src import tabulate\n",
    "import numpy as np\n",
    "import pandas as pd\n",
    "from sklearn.linear_model import LinearRegression"
   ]
  },
  {
   "cell_type": "code",
   "execution_count": null,
   "metadata": {},
   "outputs": [],
   "source": [
    "rng = np.random.default_rng(0)\n",
    "x = rng.normal(0,0.1,100).cumsum()\n",
    "y = rng.normal(3+2*x+x**2,scale=0.3)\n",
    "df = pd.DataFrame({'x':x,'y':y})\n",
    "\n",
    "m=RegBuilder('poly_OLS')\n",
    "m.fit(x.reshape(-1,1),y)"
   ]
  },
  {
   "cell_type": "code",
   "execution_count": null,
   "metadata": {},
   "outputs": [],
   "source": [
    "m.coef"
   ]
  },
  {
   "cell_type": "code",
   "execution_count": null,
   "metadata": {},
   "outputs": [],
   "source": [
    "import matplotlib.pyplot as plt\n",
    "\n",
    "x_new = np.linspace(-3,3,100)\n",
    "y_new = rng.normal(3+2*x_new+x_new**2,scale=0.3)\n",
    "\n",
    "mean = m.predict(x_new.reshape(-1,1))\n",
    "lw,up=m.predict_interval(x_new.reshape(-1,1),alpha=0.01)\n",
    "\n",
    "plt.plot(x_new,mean,c='red')\n",
    "plt.scatter(x_new,y_new)\n",
    "plt.fill_between(x_new,lw,up,alpha=0.3)\n",
    "plt.vlines(x=min(x),ymin=min(lw),ymax=max(up),colors='green')\n",
    "plt.vlines(x=max(x),ymin=min(lw),ymax=max(up),colors='green')"
   ]
  },
  {
   "cell_type": "code",
   "execution_count": null,
   "metadata": {},
   "outputs": [],
   "source": [
    "m.intercept"
   ]
  },
  {
   "cell_type": "code",
   "execution_count": null,
   "metadata": {},
   "outputs": [],
   "source": [
    "m.feature_names_in"
   ]
  },
  {
   "cell_type": "code",
   "execution_count": null,
   "metadata": {},
   "outputs": [],
   "source": [
    "list(m.feature_names)"
   ]
  }
 ],
 "metadata": {
  "kernelspec": {
   "display_name": "dev",
   "language": "python",
   "name": "python3"
  },
  "language_info": {
   "codemirror_mode": {
    "name": "ipython",
    "version": 3
   },
   "file_extension": ".py",
   "mimetype": "text/x-python",
   "name": "python",
   "nbconvert_exporter": "python",
   "pygments_lexer": "ipython3",
   "version": "3.10.9"
  },
  "orig_nbformat": 4
 },
 "nbformat": 4,
 "nbformat_minor": 2
}
