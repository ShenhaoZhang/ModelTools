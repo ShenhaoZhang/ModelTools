{
 "cells": [
  {
   "cell_type": "code",
   "execution_count": null,
   "metadata": {},
   "outputs": [],
   "source": [
    "import matplotlib.pyplot as plt\n",
    "from ModelTools.Metric import Metric\n",
    "from ModelTools.RegBuilder import RegBuilder\n",
    "from ModelTools.QRegBuilder import QRegBuilder\n",
    "from ModelTools._src import tabulate\n",
    "import numpy as np\n",
    "import pandas as pd\n",
    "from sklearn.linear_model import LinearRegression\n",
    "\n",
    "from plotnine.data import mtcars\n",
    "import plotnine as gg"
   ]
  },
  {
   "cell_type": "code",
   "execution_count": null,
   "metadata": {},
   "outputs": [],
   "source": [
    "mtcars\n",
    "p1=gg.qplot('mpg','wt',mtcars)\n",
    "p1"
   ]
  },
  {
   "cell_type": "code",
   "execution_count": null,
   "metadata": {},
   "outputs": [],
   "source": [
    "mtcars"
   ]
  },
  {
   "cell_type": "code",
   "execution_count": null,
   "metadata": {},
   "outputs": [],
   "source": [
    "m1 = RegBuilder('fml_HUBER',formula='~mpg').fit(mtcars,mtcars.wt)\n",
    "lb,ub = m1.predict_interval()\n",
    "p1+gg.geom_line(gg.aes(x=mtcars.mpg.to_numpy(),y=m1.predict()))+gg.geom_ribbon(gg.aes(ymax=ub,ymin=lb),alpha=0.3)"
   ]
  },
  {
   "cell_type": "code",
   "execution_count": null,
   "metadata": {},
   "outputs": [],
   "source": [
    "m2=QRegBuilder('fml_GBR',formula='~mpg').fit(mtcars[['mpg']],mtcars.wt,alpha=0.9)\n",
    "p1+gg.geom_line(gg.aes(x=mtcars.mpg.to_numpy(),y=m2.predict()))"
   ]
  },
  {
   "cell_type": "code",
   "execution_count": null,
   "metadata": {},
   "outputs": [],
   "source": [
    "m2.cv.best_estimator_"
   ]
  },
  {
   "cell_type": "code",
   "execution_count": null,
   "metadata": {},
   "outputs": [],
   "source": [
    "def formula_transform(data:pd.DataFrame,formula:str):\n",
    "    from formulaic import model_matrix\n",
    "    return model_matrix(formula,data)  \n",
    "\n",
    "formula_transform(pd.DataFrame(columns=['x','y'],data=np.zeros(2).reshape(1,-1)),formula='~x')"
   ]
  },
  {
   "cell_type": "code",
   "execution_count": null,
   "metadata": {},
   "outputs": [],
   "source": [
    "np.ones_like(['x','y']).reshape(1,-1)"
   ]
  },
  {
   "cell_type": "code",
   "execution_count": null,
   "metadata": {},
   "outputs": [],
   "source": [
    "\n",
    "\n",
    "x_new = np.linspace(-3,3,100)\n",
    "x_new = np.linspace(min(x),max(x),100)\n",
    "y_new = rng.normal(1+np.sin(x_new),scale=0.1)\n",
    "\n",
    "mean = m1.predict(x_new.reshape(-1,1))\n",
    "lw,up=m1.predict_interval(x_new.reshape(-1,1),alpha=0.01)\n",
    "\n",
    "fig,ax = plt.subplots(1,2)\n",
    "\n",
    "ax[0].plot(x_new,mean,c='red')\n",
    "ax[0].scatter(x_new,y_new,s=1)\n",
    "ax[0].fill_between(x_new,lw,up,alpha=0.3)\n",
    "\n",
    "qr_up = m2.fit(x.reshape(-1,1),y,alpha=0.99).predict(x_new.reshape(-1,1))\n",
    "qr_lw = m2.fit(x.reshape(-1,1),y,alpha=0.01).predict(x_new.reshape(-1,1))\n",
    "ax[1].fill_between(x_new,qr_up,qr_lw,alpha=0.3)\n",
    "ax[1].scatter(x_new,y_new,s=1)\n",
    "\n",
    "for i in [0,1]:\n",
    "    ax[i].vlines(x=min(x),ymin=min(lw),ymax=max(up),colors='green')\n",
    "    ax[i].vlines(x=max(x),ymin=min(lw),ymax=max(up),colors='green')"
   ]
  },
  {
   "cell_type": "code",
   "execution_count": null,
   "metadata": {},
   "outputs": [],
   "source": [
    "qr_up-qr_lw"
   ]
  }
 ],
 "metadata": {
  "kernelspec": {
   "display_name": "dev",
   "language": "python",
   "name": "python3"
  },
  "language_info": {
   "codemirror_mode": {
    "name": "ipython",
    "version": 3
   },
   "file_extension": ".py",
   "mimetype": "text/x-python",
   "name": "python",
   "nbconvert_exporter": "python",
   "pygments_lexer": "ipython3",
   "version": "3.10.9"
  },
  "orig_nbformat": 4
 },
 "nbformat": 4,
 "nbformat_minor": 2
}
