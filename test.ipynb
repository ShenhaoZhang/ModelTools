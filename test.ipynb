{
 "cells": [
  {
   "cell_type": "code",
   "execution_count": null,
   "metadata": {},
   "outputs": [],
   "source": [
    "from ModelTools.Metric import Metric\n",
    "from ModelTools.RegBuilder import RegBuilder\n",
    "from ModelTools._src import tabulate\n",
    "import numpy as np\n",
    "from sklearn.linear_model import LinearRegression"
   ]
  },
  {
   "cell_type": "code",
   "execution_count": null,
   "metadata": {},
   "outputs": [],
   "source": [
    "rng = np.random.default_rng(0)\n",
    "x = rng.normal(0,0.1,100).cumsum()\n",
    "y = rng.normal(3+2*x+x**2,scale=0.3)\n",
    "\n",
    "m=RegBuilder('poly_OLS')\n",
    "m.fit(x.reshape(-1,1),y)"
   ]
  },
  {
   "cell_type": "code",
   "execution_count": null,
   "metadata": {},
   "outputs": [],
   "source": [
    "import matplotlib.pyplot as plt\n",
    "\n",
    "x_new = np.linspace(-3,3,100)\n",
    "y_new = rng.normal(3+2*x_new+x_new**2,scale=0.3)\n",
    "\n",
    "mean = m.predict(x_new.reshape(-1,1))\n",
    "lw,up=m.predict(x_new.reshape(-1,1),type='interval',alpha=0.05)\n",
    "\n",
    "plt.plot(x_new,mean,c='red')\n",
    "plt.scatter(x_new,y_new)\n",
    "plt.fill_between(x_new,lw,up,alpha=0.3)\n",
    "plt.vlines(x=min(x),ymin=min(lw),ymax=max(up),colors='green')\n",
    "plt.vlines(x=max(x),ymin=min(lw),ymax=max(up),colors='green')"
   ]
  },
  {
   "cell_type": "code",
   "execution_count": null,
   "metadata": {},
   "outputs": [],
   "source": [
    "x = np.random.normal(size=100)\n",
    "y = {\n",
    "    'a':np.random.normal(size=100),\n",
    "    'b':np.random.normal(size=100),\n",
    "}\n",
    "\n",
    "Metric(\n",
    "    x,y\n",
    ").data"
   ]
  },
  {
   "cell_type": "code",
   "execution_count": null,
   "metadata": {},
   "outputs": [],
   "source": [
    "Metric(\n",
    "    x,y\n",
    ").get_metric(style_metric=False,type='resid')"
   ]
  },
  {
   "cell_type": "code",
   "execution_count": null,
   "metadata": {},
   "outputs": [],
   "source": [
    "Metric(\n",
    "    x,y\n",
    ").get_metric(style_metric=True,type='eval')"
   ]
  },
  {
   "cell_type": "code",
   "execution_count": null,
   "metadata": {},
   "outputs": [],
   "source": [
    "from mapie import metrics\n",
    "metrics.regression_coverage_score"
   ]
  }
 ],
 "metadata": {
  "kernelspec": {
   "display_name": "dev",
   "language": "python",
   "name": "python3"
  },
  "language_info": {
   "codemirror_mode": {
    "name": "ipython",
    "version": 3
   },
   "file_extension": ".py",
   "mimetype": "text/x-python",
   "name": "python",
   "nbconvert_exporter": "python",
   "pygments_lexer": "ipython3",
   "version": "3.10.9"
  },
  "orig_nbformat": 4
 },
 "nbformat": 4,
 "nbformat_minor": 2
}
