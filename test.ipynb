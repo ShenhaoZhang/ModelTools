{
 "cells": [
  {
   "cell_type": "code",
   "execution_count": null,
   "metadata": {},
   "outputs": [],
   "source": [
    "import numpy as np\n",
    "import pandas as pd\n",
    "from statsmodels.formula.api import ols\n",
    "import plotnine as gg\n",
    "\n",
    "from regression.linear_model import LinearModel"
   ]
  },
  {
   "cell_type": "code",
   "execution_count": null,
   "metadata": {},
   "outputs": [],
   "source": [
    "rng = np.random.default_rng(1)\n",
    "data = pd.DataFrame({\n",
    "    'x1':rng.normal(size=100).cumsum(),\n",
    "    'x2':rng.normal(size=100).cumsum()\n",
    "}).assign(y=lambda dt:rng.normal(1+2*dt.x1+3*dt.x2,scale=1))\n",
    "\n",
    "formula = 'y~x1*x2'\n",
    "mod=LinearModel(formula,data=data).fit(method='OLS')\n",
    "mod.bootstrap_coef(n_resamples=1000)\n",
    "\n",
    "mod.get_coef()"
   ]
  },
  {
   "cell_type": "code",
   "execution_count": null,
   "metadata": {},
   "outputs": [],
   "source": [
    "mod.get_metric(bootstrap=True).round(4)"
   ]
  },
  {
   "cell_type": "code",
   "execution_count": null,
   "metadata": {},
   "outputs": [],
   "source": [
    "ols(formula,data=data).fit().summary()"
   ]
  },
  {
   "cell_type": "code",
   "execution_count": null,
   "metadata": {},
   "outputs": [],
   "source": [
    "(\n",
    "    mod.predict(ci_method='bootstrap',alpha=0.05)\n",
    "    .pipe(gg.ggplot)\n",
    "    + gg.aes(x='x1')\n",
    "    # + gg.geom_point(gg.aes(y='y'))\n",
    "    + gg.geom_line(gg.aes(y='pred'),color='red')\n",
    "    + gg.geom_ribbon(gg.aes(ymin='pred_low',ymax='pred_up'),alpha=0.3)\n",
    "    + gg.geom_ribbon(gg.aes(ymin='ci_low',ymax='ci_up'),alpha=0.3,fill='red')\n",
    "    # + gg.stat_function(fun=lambda x:np.sin(x),color='blue')\n",
    ")"
   ]
  },
  {
   "cell_type": "code",
   "execution_count": null,
   "metadata": {},
   "outputs": [],
   "source": [
    "(\n",
    "    mod.coef_dist_boot\n",
    "    .melt()\n",
    "    .pipe(gg.ggplot)\n",
    "    + gg.aes(x='value')\n",
    "    + gg.geom_density()\n",
    "    + gg.facet_wrap('variable',ncol=1,scales='free_y')\n",
    ")"
   ]
  },
  {
   "cell_type": "code",
   "execution_count": null,
   "metadata": {},
   "outputs": [],
   "source": [
    "(\n",
    "    mod.coef_dist_boot\n",
    "    .pipe(gg.ggplot)\n",
    "    + gg.aes(x='Intercept',y='x1')\n",
    "    + gg.geom_pointdensity()\n",
    "    + gg.geom_density_2d()\n",
    ")"
   ]
  }
 ],
 "metadata": {
  "kernelspec": {
   "display_name": "dev",
   "language": "python",
   "name": "python3"
  },
  "language_info": {
   "codemirror_mode": {
    "name": "ipython",
    "version": 3
   },
   "file_extension": ".py",
   "mimetype": "text/x-python",
   "name": "python",
   "nbconvert_exporter": "python",
   "pygments_lexer": "ipython3",
   "version": "3.10.9"
  },
  "orig_nbformat": 4
 },
 "nbformat": 4,
 "nbformat_minor": 2
}
