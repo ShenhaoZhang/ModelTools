{
 "cells": [
  {
   "cell_type": "code",
   "execution_count": 1,
   "metadata": {},
   "outputs": [],
   "source": [
    "from ModelTools.Metric import Metric\n",
    "from ModelTools.RegBuilder import RegBuilder\n",
    "from ModelTools._src import tabulate\n",
    "import numpy as np\n",
    "from sklearn.linear_model import LinearRegression"
   ]
  },
  {
   "cell_type": "code",
   "execution_count": 2,
   "metadata": {},
   "outputs": [
    {
     "data": {
      "text/html": [
       "<style>#sk-container-id-1 {color: black;background-color: white;}#sk-container-id-1 pre{padding: 0;}#sk-container-id-1 div.sk-toggleable {background-color: white;}#sk-container-id-1 label.sk-toggleable__label {cursor: pointer;display: block;width: 100%;margin-bottom: 0;padding: 0.3em;box-sizing: border-box;text-align: center;}#sk-container-id-1 label.sk-toggleable__label-arrow:before {content: \"▸\";float: left;margin-right: 0.25em;color: #696969;}#sk-container-id-1 label.sk-toggleable__label-arrow:hover:before {color: black;}#sk-container-id-1 div.sk-estimator:hover label.sk-toggleable__label-arrow:before {color: black;}#sk-container-id-1 div.sk-toggleable__content {max-height: 0;max-width: 0;overflow: hidden;text-align: left;background-color: #f0f8ff;}#sk-container-id-1 div.sk-toggleable__content pre {margin: 0.2em;color: black;border-radius: 0.25em;background-color: #f0f8ff;}#sk-container-id-1 input.sk-toggleable__control:checked~div.sk-toggleable__content {max-height: 200px;max-width: 100%;overflow: auto;}#sk-container-id-1 input.sk-toggleable__control:checked~label.sk-toggleable__label-arrow:before {content: \"▾\";}#sk-container-id-1 div.sk-estimator input.sk-toggleable__control:checked~label.sk-toggleable__label {background-color: #d4ebff;}#sk-container-id-1 div.sk-label input.sk-toggleable__control:checked~label.sk-toggleable__label {background-color: #d4ebff;}#sk-container-id-1 input.sk-hidden--visually {border: 0;clip: rect(1px 1px 1px 1px);clip: rect(1px, 1px, 1px, 1px);height: 1px;margin: -1px;overflow: hidden;padding: 0;position: absolute;width: 1px;}#sk-container-id-1 div.sk-estimator {font-family: monospace;background-color: #f0f8ff;border: 1px dotted black;border-radius: 0.25em;box-sizing: border-box;margin-bottom: 0.5em;}#sk-container-id-1 div.sk-estimator:hover {background-color: #d4ebff;}#sk-container-id-1 div.sk-parallel-item::after {content: \"\";width: 100%;border-bottom: 1px solid gray;flex-grow: 1;}#sk-container-id-1 div.sk-label:hover label.sk-toggleable__label {background-color: #d4ebff;}#sk-container-id-1 div.sk-serial::before {content: \"\";position: absolute;border-left: 1px solid gray;box-sizing: border-box;top: 0;bottom: 0;left: 50%;z-index: 0;}#sk-container-id-1 div.sk-serial {display: flex;flex-direction: column;align-items: center;background-color: white;padding-right: 0.2em;padding-left: 0.2em;position: relative;}#sk-container-id-1 div.sk-item {position: relative;z-index: 1;}#sk-container-id-1 div.sk-parallel {display: flex;align-items: stretch;justify-content: center;background-color: white;position: relative;}#sk-container-id-1 div.sk-item::before, #sk-container-id-1 div.sk-parallel-item::before {content: \"\";position: absolute;border-left: 1px solid gray;box-sizing: border-box;top: 0;bottom: 0;left: 50%;z-index: -1;}#sk-container-id-1 div.sk-parallel-item {display: flex;flex-direction: column;z-index: 1;position: relative;background-color: white;}#sk-container-id-1 div.sk-parallel-item:first-child::after {align-self: flex-end;width: 50%;}#sk-container-id-1 div.sk-parallel-item:last-child::after {align-self: flex-start;width: 50%;}#sk-container-id-1 div.sk-parallel-item:only-child::after {width: 0;}#sk-container-id-1 div.sk-dashed-wrapped {border: 1px dashed gray;margin: 0 0.4em 0.5em 0.4em;box-sizing: border-box;padding-bottom: 0.4em;background-color: white;}#sk-container-id-1 div.sk-label label {font-family: monospace;font-weight: bold;display: inline-block;line-height: 1.2em;}#sk-container-id-1 div.sk-label-container {text-align: center;}#sk-container-id-1 div.sk-container {/* jupyter's `normalize.less` sets `[hidden] { display: none; }` but bootstrap.min.css set `[hidden] { display: none !important; }` so we also need the `!important` here to be able to override the default hidden behavior on the sphinx rendered scikit-learn.org. See: https://github.com/scikit-learn/scikit-learn/issues/21755 */display: inline-block !important;position: relative;}#sk-container-id-1 div.sk-text-repr-fallback {display: none;}</style><div id=\"sk-container-id-1\" class=\"sk-top-container\"><div class=\"sk-text-repr-fallback\"><pre>GridSearchCV(estimator=Pipeline(steps=[(&#x27;poly&#x27;, PolynomialFeatures()),\n",
       "                                       (&#x27;OLS&#x27;, LinearRegression())]),\n",
       "             param_grid={&#x27;poly__degree&#x27;: [2, 3, 4]}, return_train_score=True)</pre><b>In a Jupyter environment, please rerun this cell to show the HTML representation or trust the notebook. <br />On GitHub, the HTML representation is unable to render, please try loading this page with nbviewer.org.</b></div><div class=\"sk-container\" hidden><div class=\"sk-item sk-dashed-wrapped\"><div class=\"sk-label-container\"><div class=\"sk-label sk-toggleable\"><input class=\"sk-toggleable__control sk-hidden--visually\" id=\"sk-estimator-id-1\" type=\"checkbox\" ><label for=\"sk-estimator-id-1\" class=\"sk-toggleable__label sk-toggleable__label-arrow\">GridSearchCV</label><div class=\"sk-toggleable__content\"><pre>GridSearchCV(estimator=Pipeline(steps=[(&#x27;poly&#x27;, PolynomialFeatures()),\n",
       "                                       (&#x27;OLS&#x27;, LinearRegression())]),\n",
       "             param_grid={&#x27;poly__degree&#x27;: [2, 3, 4]}, return_train_score=True)</pre></div></div></div><div class=\"sk-parallel\"><div class=\"sk-parallel-item\"><div class=\"sk-item\"><div class=\"sk-label-container\"><div class=\"sk-label sk-toggleable\"><input class=\"sk-toggleable__control sk-hidden--visually\" id=\"sk-estimator-id-2\" type=\"checkbox\" ><label for=\"sk-estimator-id-2\" class=\"sk-toggleable__label sk-toggleable__label-arrow\">estimator: Pipeline</label><div class=\"sk-toggleable__content\"><pre>Pipeline(steps=[(&#x27;poly&#x27;, PolynomialFeatures()), (&#x27;OLS&#x27;, LinearRegression())])</pre></div></div></div><div class=\"sk-serial\"><div class=\"sk-item\"><div class=\"sk-serial\"><div class=\"sk-item\"><div class=\"sk-estimator sk-toggleable\"><input class=\"sk-toggleable__control sk-hidden--visually\" id=\"sk-estimator-id-3\" type=\"checkbox\" ><label for=\"sk-estimator-id-3\" class=\"sk-toggleable__label sk-toggleable__label-arrow\">PolynomialFeatures</label><div class=\"sk-toggleable__content\"><pre>PolynomialFeatures()</pre></div></div></div><div class=\"sk-item\"><div class=\"sk-estimator sk-toggleable\"><input class=\"sk-toggleable__control sk-hidden--visually\" id=\"sk-estimator-id-4\" type=\"checkbox\" ><label for=\"sk-estimator-id-4\" class=\"sk-toggleable__label sk-toggleable__label-arrow\">LinearRegression</label><div class=\"sk-toggleable__content\"><pre>LinearRegression()</pre></div></div></div></div></div></div></div></div></div></div></div></div>"
      ],
      "text/plain": [
       "GridSearchCV(estimator=Pipeline(steps=[('poly', PolynomialFeatures()),\n",
       "                                       ('OLS', LinearRegression())]),\n",
       "             param_grid={'poly__degree': [2, 3, 4]}, return_train_score=True)"
      ]
     },
     "execution_count": 2,
     "metadata": {},
     "output_type": "execute_result"
    }
   ],
   "source": [
    "m=RegBuilder('poly_OLS')\n",
    "m.fit(np.random.normal(size=100).reshape(-1,1),np.random.normal(size=100))"
   ]
  },
  {
   "cell_type": "code",
   "execution_count": 3,
   "metadata": {},
   "outputs": [
    {
     "data": {
      "text/plain": [
       "array([-5.70904181e-02,  4.31892102e-02,  4.38889172e-02,  3.89997105e-02,\n",
       "       -1.37729552e-02,  3.21748718e-03, -1.67435276e-02, -2.47252474e-02,\n",
       "        3.29675222e-02,  3.83366447e-02,  2.20715556e-03,  2.83424834e-02,\n",
       "        7.15445552e-03,  9.91604248e-03,  1.25380343e-02,  4.35830472e-02,\n",
       "        4.45126066e-02,  5.55180867e-03, -1.16180916e-01, -1.87042173e-02,\n",
       "       -3.40594198e-03,  4.82002694e-03, -8.67912612e-03, -1.07930357e-02,\n",
       "        4.15613604e-02, -4.25266731e-02, -5.79024416e-02,  4.14169478e-02,\n",
       "       -1.72629129e-01,  3.88846978e-02,  1.55824681e-02,  1.28909302e-02,\n",
       "       -5.49287896e-02,  2.08774091e-02, -3.08601202e-04,  3.06307832e-02,\n",
       "       -5.74116248e-03, -3.12856762e-01,  9.14360087e-03,  3.12589105e-02,\n",
       "       -3.98184246e-02,  4.37068162e-02, -5.06320291e-02, -6.99549690e-02,\n",
       "        2.93497840e-02,  6.59446962e-03, -6.98762277e-02, -2.50843565e-03,\n",
       "        4.39953992e-02,  4.32572733e-02, -2.69873645e-02,  2.13868242e-02,\n",
       "        3.73053396e-02,  2.33993620e-02, -3.28238444e-03, -2.02961095e-02,\n",
       "        4.37249606e-02, -1.39766835e-01,  3.00515341e-02, -3.37503000e-02,\n",
       "        4.33809311e-02,  8.72803771e-03,  1.50526972e-02,  4.45139856e-02,\n",
       "        4.39810346e-02,  3.05149986e-02,  2.13155229e-02,  3.65223906e-02,\n",
       "        1.10361903e-02,  3.41615881e-02, -2.25591983e-01, -1.07799059e-01,\n",
       "       -1.27628806e-02,  1.75480820e-03,  4.29563434e-02,  4.24588146e-02,\n",
       "        1.67627993e-02,  1.91072293e-02,  4.36835894e-02, -1.91771196e-02,\n",
       "       -8.83472124e-02, -7.90173927e-02,  3.92707998e-02,  3.33910366e-02,\n",
       "       -1.57494158e-02, -7.10969156e-03,  4.45215028e-02, -1.27040608e-01,\n",
       "        3.50019661e-02,  4.18563823e-02,  4.14768835e-02, -8.20322817e-02,\n",
       "       -3.02616118e-02, -1.05586994e-01,  3.65428847e-02, -9.41896197e-04,\n",
       "        2.77337226e-02, -1.08964482e-02,  3.76465709e-02, -1.05221694e-01])"
      ]
     },
     "execution_count": 3,
     "metadata": {},
     "output_type": "execute_result"
    }
   ],
   "source": [
    "m.predict_point(np.random.normal(size=100).reshape(-1,1))"
   ]
  },
  {
   "cell_type": "code",
   "execution_count": 2,
   "metadata": {},
   "outputs": [
    {
     "data": {
      "text/html": [
       "<div>\n",
       "<style scoped>\n",
       "    .dataframe tbody tr th:only-of-type {\n",
       "        vertical-align: middle;\n",
       "    }\n",
       "\n",
       "    .dataframe tbody tr th {\n",
       "        vertical-align: top;\n",
       "    }\n",
       "\n",
       "    .dataframe thead th {\n",
       "        text-align: right;\n",
       "    }\n",
       "</style>\n",
       "<table border=\"1\" class=\"dataframe\">\n",
       "  <thead>\n",
       "    <tr style=\"text-align: right;\">\n",
       "      <th></th>\n",
       "      <th>y</th>\n",
       "      <th>Method</th>\n",
       "      <th>pred</th>\n",
       "      <th>resid</th>\n",
       "    </tr>\n",
       "    <tr>\n",
       "      <th>index</th>\n",
       "      <th></th>\n",
       "      <th></th>\n",
       "      <th></th>\n",
       "      <th></th>\n",
       "    </tr>\n",
       "  </thead>\n",
       "  <tbody>\n",
       "    <tr>\n",
       "      <th>0</th>\n",
       "      <td>1.429145</td>\n",
       "      <td>a</td>\n",
       "      <td>0.693565</td>\n",
       "      <td>0.735580</td>\n",
       "    </tr>\n",
       "    <tr>\n",
       "      <th>0</th>\n",
       "      <td>1.429145</td>\n",
       "      <td>b</td>\n",
       "      <td>-0.053655</td>\n",
       "      <td>1.482800</td>\n",
       "    </tr>\n",
       "    <tr>\n",
       "      <th>1</th>\n",
       "      <td>-2.016024</td>\n",
       "      <td>a</td>\n",
       "      <td>0.046225</td>\n",
       "      <td>-2.062248</td>\n",
       "    </tr>\n",
       "    <tr>\n",
       "      <th>1</th>\n",
       "      <td>-2.016024</td>\n",
       "      <td>b</td>\n",
       "      <td>0.608972</td>\n",
       "      <td>-2.624995</td>\n",
       "    </tr>\n",
       "    <tr>\n",
       "      <th>2</th>\n",
       "      <td>0.525525</td>\n",
       "      <td>a</td>\n",
       "      <td>-0.951728</td>\n",
       "      <td>1.477253</td>\n",
       "    </tr>\n",
       "    <tr>\n",
       "      <th>...</th>\n",
       "      <td>...</td>\n",
       "      <td>...</td>\n",
       "      <td>...</td>\n",
       "      <td>...</td>\n",
       "    </tr>\n",
       "    <tr>\n",
       "      <th>97</th>\n",
       "      <td>-1.217916</td>\n",
       "      <td>b</td>\n",
       "      <td>1.944545</td>\n",
       "      <td>-3.162462</td>\n",
       "    </tr>\n",
       "    <tr>\n",
       "      <th>98</th>\n",
       "      <td>-0.201342</td>\n",
       "      <td>a</td>\n",
       "      <td>1.360969</td>\n",
       "      <td>-1.562311</td>\n",
       "    </tr>\n",
       "    <tr>\n",
       "      <th>98</th>\n",
       "      <td>-0.201342</td>\n",
       "      <td>b</td>\n",
       "      <td>0.259476</td>\n",
       "      <td>-0.460818</td>\n",
       "    </tr>\n",
       "    <tr>\n",
       "      <th>99</th>\n",
       "      <td>0.719510</td>\n",
       "      <td>a</td>\n",
       "      <td>-0.568346</td>\n",
       "      <td>1.287857</td>\n",
       "    </tr>\n",
       "    <tr>\n",
       "      <th>99</th>\n",
       "      <td>0.719510</td>\n",
       "      <td>b</td>\n",
       "      <td>-0.093160</td>\n",
       "      <td>0.812670</td>\n",
       "    </tr>\n",
       "  </tbody>\n",
       "</table>\n",
       "<p>200 rows × 4 columns</p>\n",
       "</div>"
      ],
      "text/plain": [
       "              y Method      pred     resid\n",
       "index                                     \n",
       "0      1.429145      a  0.693565  0.735580\n",
       "0      1.429145      b -0.053655  1.482800\n",
       "1     -2.016024      a  0.046225 -2.062248\n",
       "1     -2.016024      b  0.608972 -2.624995\n",
       "2      0.525525      a -0.951728  1.477253\n",
       "...         ...    ...       ...       ...\n",
       "97    -1.217916      b  1.944545 -3.162462\n",
       "98    -0.201342      a  1.360969 -1.562311\n",
       "98    -0.201342      b  0.259476 -0.460818\n",
       "99     0.719510      a -0.568346  1.287857\n",
       "99     0.719510      b -0.093160  0.812670\n",
       "\n",
       "[200 rows x 4 columns]"
      ]
     },
     "execution_count": 2,
     "metadata": {},
     "output_type": "execute_result"
    }
   ],
   "source": [
    "x = np.random.normal(size=100)\n",
    "y = {\n",
    "    'a':np.random.normal(size=100),\n",
    "    'b':np.random.normal(size=100),\n",
    "}\n",
    "\n",
    "Metric(\n",
    "    x,y\n",
    ").data"
   ]
  },
  {
   "cell_type": "code",
   "execution_count": 3,
   "metadata": {},
   "outputs": [
    {
     "data": {
      "text/html": [
       "<div>\n",
       "<style scoped>\n",
       "    .dataframe tbody tr th:only-of-type {\n",
       "        vertical-align: middle;\n",
       "    }\n",
       "\n",
       "    .dataframe tbody tr th {\n",
       "        vertical-align: top;\n",
       "    }\n",
       "\n",
       "    .dataframe thead th {\n",
       "        text-align: right;\n",
       "    }\n",
       "</style>\n",
       "<table border=\"1\" class=\"dataframe\">\n",
       "  <thead>\n",
       "    <tr style=\"text-align: right;\">\n",
       "      <th></th>\n",
       "      <th>Mean</th>\n",
       "      <th>Median</th>\n",
       "      <th>SD</th>\n",
       "      <th>IQR</th>\n",
       "      <th>Skew</th>\n",
       "      <th>Kurt</th>\n",
       "    </tr>\n",
       "  </thead>\n",
       "  <tbody>\n",
       "    <tr>\n",
       "      <th>a</th>\n",
       "      <td>0.045948</td>\n",
       "      <td>0.006709</td>\n",
       "      <td>1.383586</td>\n",
       "      <td>2.000913</td>\n",
       "      <td>-0.055535</td>\n",
       "      <td>-0.079949</td>\n",
       "    </tr>\n",
       "    <tr>\n",
       "      <th>b</th>\n",
       "      <td>-0.063052</td>\n",
       "      <td>-0.076978</td>\n",
       "      <td>1.376328</td>\n",
       "      <td>1.734996</td>\n",
       "      <td>0.135311</td>\n",
       "      <td>0.229664</td>\n",
       "    </tr>\n",
       "  </tbody>\n",
       "</table>\n",
       "</div>"
      ],
      "text/plain": [
       "       Mean    Median        SD       IQR      Skew      Kurt\n",
       "a  0.045948  0.006709  1.383586  2.000913 -0.055535 -0.079949\n",
       "b -0.063052 -0.076978  1.376328  1.734996  0.135311  0.229664"
      ]
     },
     "execution_count": 3,
     "metadata": {},
     "output_type": "execute_result"
    }
   ],
   "source": [
    "Metric(\n",
    "    x,y\n",
    ").get_metric(style_metric=False,type='resid')"
   ]
  },
  {
   "cell_type": "code",
   "execution_count": 7,
   "metadata": {},
   "outputs": [
    {
     "data": {
      "text/html": [
       "<style type=\"text/css\">\n",
       "#T_70bee_row0_col0, #T_70bee_row0_col1, #T_70bee_row0_col2, #T_70bee_row0_col4, #T_70bee_row0_col5, #T_70bee_row0_col6, #T_70bee_row0_col8, #T_70bee_row1_col3, #T_70bee_row1_col7 {\n",
       "  color: green;\n",
       "}\n",
       "#T_70bee_row0_col3, #T_70bee_row0_col7, #T_70bee_row1_col0, #T_70bee_row1_col1, #T_70bee_row1_col2, #T_70bee_row1_col4, #T_70bee_row1_col5, #T_70bee_row1_col6, #T_70bee_row1_col8 {\n",
       "  color: red;\n",
       "}\n",
       "</style>\n",
       "<table id=\"T_70bee\">\n",
       "  <thead>\n",
       "    <tr>\n",
       "      <th class=\"blank level0\" >&nbsp;</th>\n",
       "      <th id=\"T_70bee_level0_col0\" class=\"col_heading level0 col0\" >R2</th>\n",
       "      <th id=\"T_70bee_level0_col1\" class=\"col_heading level0 col1\" >MSE</th>\n",
       "      <th id=\"T_70bee_level0_col2\" class=\"col_heading level0 col2\" >MAE</th>\n",
       "      <th id=\"T_70bee_level0_col3\" class=\"col_heading level0 col3\" >MBE</th>\n",
       "      <th id=\"T_70bee_level0_col4\" class=\"col_heading level0 col4\" >MdAE</th>\n",
       "      <th id=\"T_70bee_level0_col5\" class=\"col_heading level0 col5\" >MAPE</th>\n",
       "      <th id=\"T_70bee_level0_col6\" class=\"col_heading level0 col6\" >MaxE</th>\n",
       "      <th id=\"T_70bee_level0_col7\" class=\"col_heading level0 col7\" >SAE</th>\n",
       "      <th id=\"T_70bee_level0_col8\" class=\"col_heading level0 col8\" >SAPE</th>\n",
       "    </tr>\n",
       "  </thead>\n",
       "  <tbody>\n",
       "    <tr>\n",
       "      <th id=\"T_70bee_level0_row0\" class=\"row_heading level0 row0\" >a</th>\n",
       "      <td id=\"T_70bee_row0_col0\" class=\"data row0 col0\" >-0.760831</td>\n",
       "      <td id=\"T_70bee_row0_col1\" class=\"data row0 col1\" >1.916420</td>\n",
       "      <td id=\"T_70bee_row0_col2\" class=\"data row0 col2\" >1.103016</td>\n",
       "      <td id=\"T_70bee_row0_col3\" class=\"data row0 col3\" >-0.045948</td>\n",
       "      <td id=\"T_70bee_row0_col4\" class=\"data row0 col4\" >1.011230</td>\n",
       "      <td id=\"T_70bee_row0_col5\" class=\"data row0 col5\" >2.785056</td>\n",
       "      <td id=\"T_70bee_row0_col6\" class=\"data row0 col6\" >3.835397</td>\n",
       "      <td id=\"T_70bee_row0_col7\" class=\"data row0 col7\" >0.836526</td>\n",
       "      <td id=\"T_70bee_row0_col8\" class=\"data row0 col8\" >4.656354</td>\n",
       "    </tr>\n",
       "    <tr>\n",
       "      <th id=\"T_70bee_level0_row1\" class=\"row_heading level0 row1\" >b</th>\n",
       "      <td id=\"T_70bee_row1_col0\" class=\"data row1 col0\" >-0.744139</td>\n",
       "      <td id=\"T_70bee_row1_col1\" class=\"data row1 col1\" >1.898254</td>\n",
       "      <td id=\"T_70bee_row1_col2\" class=\"data row1 col2\" >1.070233</td>\n",
       "      <td id=\"T_70bee_row1_col3\" class=\"data row1 col3\" >0.063052</td>\n",
       "      <td id=\"T_70bee_row1_col4\" class=\"data row1 col4\" >0.863995</td>\n",
       "      <td id=\"T_70bee_row1_col5\" class=\"data row1 col5\" >2.356864</td>\n",
       "      <td id=\"T_70bee_row1_col6\" class=\"data row1 col6\" >3.727474</td>\n",
       "      <td id=\"T_70bee_row1_col7\" class=\"data row1 col7\" >0.867672</td>\n",
       "      <td id=\"T_70bee_row1_col8\" class=\"data row1 col8\" >3.019926</td>\n",
       "    </tr>\n",
       "  </tbody>\n",
       "</table>\n"
      ],
      "text/plain": [
       "<pandas.io.formats.style.Styler at 0x7fea8ecf8400>"
      ]
     },
     "execution_count": 7,
     "metadata": {},
     "output_type": "execute_result"
    }
   ],
   "source": [
    "Metric(\n",
    "    x,y\n",
    ").get_metric(style_metric=True,type='eval')"
   ]
  },
  {
   "cell_type": "code",
   "execution_count": 5,
   "metadata": {},
   "outputs": [
    {
     "data": {
      "text/plain": [
       "<function mapie.metrics.regression_coverage_score(y_true: Union[numpy._typing._array_like._SupportsArray[numpy.dtype[Any]], numpy._typing._nested_sequence._NestedSequence[numpy._typing._array_like._SupportsArray[numpy.dtype[Any]]], bool, int, float, complex, str, bytes, numpy._typing._nested_sequence._NestedSequence[Union[bool, int, float, complex, str, bytes]]], y_pred_low: Union[numpy._typing._array_like._SupportsArray[numpy.dtype[Any]], numpy._typing._nested_sequence._NestedSequence[numpy._typing._array_like._SupportsArray[numpy.dtype[Any]]], bool, int, float, complex, str, bytes, numpy._typing._nested_sequence._NestedSequence[Union[bool, int, float, complex, str, bytes]]], y_pred_up: Union[numpy._typing._array_like._SupportsArray[numpy.dtype[Any]], numpy._typing._nested_sequence._NestedSequence[numpy._typing._array_like._SupportsArray[numpy.dtype[Any]]], bool, int, float, complex, str, bytes, numpy._typing._nested_sequence._NestedSequence[Union[bool, int, float, complex, str, bytes]]]) -> float>"
      ]
     },
     "execution_count": 5,
     "metadata": {},
     "output_type": "execute_result"
    }
   ],
   "source": [
    "from mapie import metrics\n",
    "metrics.regression_coverage_score"
   ]
  }
 ],
 "metadata": {
  "kernelspec": {
   "display_name": "dev",
   "language": "python",
   "name": "python3"
  },
  "language_info": {
   "codemirror_mode": {
    "name": "ipython",
    "version": 3
   },
   "file_extension": ".py",
   "mimetype": "text/x-python",
   "name": "python",
   "nbconvert_exporter": "python",
   "pygments_lexer": "ipython3",
   "version": "3.10.9"
  },
  "orig_nbformat": 4
 },
 "nbformat": 4,
 "nbformat_minor": 2
}
