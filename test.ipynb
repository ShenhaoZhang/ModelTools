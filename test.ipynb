{
 "cells": [
  {
   "cell_type": "code",
   "execution_count": null,
   "metadata": {},
   "outputs": [],
   "source": [
    "from ModelTools.Metric import Metric\n",
    "from ModelTools.RegBuilder import RegBuilder\n",
    "from ModelTools._src import tabulate\n",
    "import numpy as np\n",
    "import pandas as pd\n",
    "from sklearn.linear_model import LinearRegression"
   ]
  },
  {
   "cell_type": "code",
   "execution_count": null,
   "metadata": {},
   "outputs": [],
   "source": [
    "rng = np.random.default_rng(0)\n",
    "x = rng.normal(0,0.1,200).cumsum()\n",
    "x = np.linspace(-3,3,500)\n",
    "y = rng.normal(1+2*x**2+x,scale=1)\n",
    "df = pd.DataFrame({'x':x,'y':y})\n",
    "\n",
    "m=RegBuilder(\n",
    "    'fml_OLS',\n",
    "    formula='~x0+I(x0**2)'\n",
    ")\n",
    "m.fit(x.reshape(-1,1),y)\n",
    "\n",
    "m.coef"
   ]
  },
  {
   "cell_type": "code",
   "execution_count": null,
   "metadata": {},
   "outputs": [],
   "source": [
    "import matplotlib.pyplot as plt\n",
    "\n",
    "x_new = np.linspace(-3,3,500)\n",
    "y_new = rng.normal(1+2*x_new**2+x_new,scale=1)\n",
    "\n",
    "mean = m.predict(x_new.reshape(-1,1))\n",
    "lw,up=m.predict_interval(x_new.reshape(-1,1),alpha=0.01)\n",
    "\n",
    "fig,ax = plt.subplots(1,2,figsize=[10,5])\n",
    "\n",
    "in_sample_index = (x_new<x.max()) & (x_new>x.min())\n",
    "ax[0].plot(x_new[in_sample_index],mean[in_sample_index],c='red')\n",
    "ax[0].scatter(x_new[in_sample_index],y_new[in_sample_index])\n",
    "ax[0].fill_between(x_new[in_sample_index],lw[in_sample_index],up[in_sample_index],alpha=0.3)\n",
    "\n",
    "ax[1].plot(x_new,mean,c='red')\n",
    "ax[1].scatter(x_new,y_new,s=1)\n",
    "ax[1].fill_between(x_new,lw,up,alpha=0.3)\n",
    "ax[1].vlines(x=min(x),ymin=min(lw),ymax=max(up),colors='green')\n",
    "ax[1].vlines(x=max(x),ymin=min(lw),ymax=max(up),colors='green')"
   ]
  },
  {
   "cell_type": "code",
   "execution_count": null,
   "metadata": {},
   "outputs": [],
   "source": [
    "import matplotlib.pyplot as plt\n",
    "import numpy\n",
    "import pandas\n",
    "from formulaic import model_matrix\n",
    "from statsmodels.api import OLS\n",
    "from sklearn.linear_model import LinearRegression\n",
    "\n",
    "# Build some data, and hard-code \"y\" as a quartic function with some Gaussian noise.\n",
    "\n",
    "\n",
    "# Generate a model matrix with a polynomial coding in \"x\".\n",
    "y, X = model_matrix(\"y ~ poly(x, degree=2,raw=True)\", df, output=\"numpy\")\n",
    "\n",
    "# Fit coefficients for the intercept and polynomial basis\n",
    "m=LinearRegression().fit(X,y)"
   ]
  },
  {
   "cell_type": "code",
   "execution_count": null,
   "metadata": {},
   "outputs": [],
   "source": [
    "df"
   ]
  },
  {
   "cell_type": "code",
   "execution_count": null,
   "metadata": {},
   "outputs": [],
   "source": [
    "from patsy import dmatrix,build_design_matrices\n",
    "\n",
    "dm = dmatrix('~bs(x,3)',df)\n",
    "build_design_matrices([dm.design_info],df)[0]"
   ]
  },
  {
   "cell_type": "code",
   "execution_count": null,
   "metadata": {},
   "outputs": [],
   "source": [
    "dm.design_info.column_names"
   ]
  },
  {
   "cell_type": "code",
   "execution_count": null,
   "metadata": {},
   "outputs": [],
   "source": []
  }
 ],
 "metadata": {
  "kernelspec": {
   "display_name": "dev",
   "language": "python",
   "name": "python3"
  },
  "language_info": {
   "codemirror_mode": {
    "name": "ipython",
    "version": 3
   },
   "file_extension": ".py",
   "mimetype": "text/x-python",
   "name": "python",
   "nbconvert_exporter": "python",
   "pygments_lexer": "ipython3",
   "version": "3.11.0"
  },
  "orig_nbformat": 4
 },
 "nbformat": 4,
 "nbformat_minor": 2
}
