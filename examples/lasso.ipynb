{
 "cells": [
  {
   "cell_type": "code",
   "execution_count": null,
   "metadata": {},
   "outputs": [],
   "source": [
    "import sys \n",
    "sys.path.append('..')\n",
    "\n",
    "import numpy as np\n",
    "import pandas as pd\n",
    "import plotnine as gg\n",
    "\n",
    "from ModelTools.regression.linear_model import LinearModel"
   ]
  },
  {
   "cell_type": "code",
   "execution_count": null,
   "metadata": {},
   "outputs": [],
   "source": [
    "rng = np.random.default_rng(1)\n",
    "beta = rng.normal(loc=0,scale=0.5,size=100)\n",
    "beta[rng.choice(np.arange(len(beta)),size=90,replace=False)] = 0\n",
    "\n",
    "x = rng.normal(size=[100,100])\n",
    "y = rng.normal(np.dot(x,beta),scale=0.2)\n",
    "\n",
    "df = pd.DataFrame(np.column_stack([y,x]),columns=['y']+[f'x{i}' for i in range(100)])\n",
    "df"
   ]
  },
  {
   "cell_type": "code",
   "execution_count": null,
   "metadata": {},
   "outputs": [],
   "source": [
    "fml = 'y~0+' + '+'.join([f'x{i}' for i in range(100)])\n",
    "mod = LinearModel(fml,data=df).fit(n_bootstrap=0)\n",
    "coef = (\n",
    "    mod.coef()\n",
    "    .assign(beta = beta)\n",
    "    .rename({'estimate':'OLS'},axis=1)\n",
    ")\n",
    "gg.qplot(x='beta',y='OLS',data=coef)"
   ]
  },
  {
   "cell_type": "code",
   "execution_count": null,
   "metadata": {},
   "outputs": [],
   "source": [
    "mod1 = LinearModel(fml,data=df).fit(n_bootstrap=0,method='LASSO',method_kwargs={'max_iter':1000})"
   ]
  },
  {
   "cell_type": "code",
   "execution_count": null,
   "metadata": {},
   "outputs": [],
   "source": [
    "coef = (\n",
    "    coef\n",
    "    # .assign(LASSO = mod1.mod['LASSO'].coef_)\n",
    "    .assign(LASSO=mod1.coef())\n",
    ")\n"
   ]
  },
  {
   "cell_type": "code",
   "execution_count": null,
   "metadata": {},
   "outputs": [],
   "source": [
    "gg.qplot(x='beta',y='LASSO',data=coef)"
   ]
  },
  {
   "cell_type": "code",
   "execution_count": null,
   "metadata": {},
   "outputs": [],
   "source": []
  }
 ],
 "metadata": {
  "kernelspec": {
   "display_name": "dev",
   "language": "python",
   "name": "python3"
  },
  "language_info": {
   "codemirror_mode": {
    "name": "ipython",
    "version": 3
   },
   "file_extension": ".py",
   "mimetype": "text/x-python",
   "name": "python",
   "nbconvert_exporter": "python",
   "pygments_lexer": "ipython3",
   "version": "3.11.4"
  },
  "orig_nbformat": 4
 },
 "nbformat": 4,
 "nbformat_minor": 2
}
