{
 "cells": [
  {
   "cell_type": "code",
   "execution_count": null,
   "metadata": {},
   "outputs": [],
   "source": [
    "import sys as sys \n",
    "sys.path.append('..')\n",
    "\n",
    "import numpy as np \n",
    "import pandas as pd\n",
    "from plotnine.data import diamonds\n",
    "from ModelTools.data.data import Data\n",
    "from tabulate import tabulate\n",
    "\n",
    "data = diamonds.head(1000)\n",
    "data"
   ]
  },
  {
   "cell_type": "code",
   "execution_count": null,
   "metadata": {},
   "outputs": [],
   "source": [
    "dt = Data(data=data.select_dtypes(include='number'))"
   ]
  },
  {
   "cell_type": "code",
   "execution_count": null,
   "metadata": {},
   "outputs": [],
   "source": [
    "dt.summary()"
   ]
  },
  {
   "cell_type": "code",
   "execution_count": null,
   "metadata": {},
   "outputs": [],
   "source": [
    "dt.plot_scatter_matrix()"
   ]
  },
  {
   "cell_type": "code",
   "execution_count": null,
   "metadata": {},
   "outputs": [],
   "source": []
  },
  {
   "cell_type": "code",
   "execution_count": null,
   "metadata": {},
   "outputs": [],
   "source": [
    "from ModelTools.plot.corr_heatmap import corr_heatmap\n",
    "\n",
    "corr_heatmap(data,x=data.select_dtypes('number').columns)"
   ]
  },
  {
   "cell_type": "code",
   "execution_count": null,
   "metadata": {},
   "outputs": [],
   "source": [
    "from ModelTools.plot.basic.basic import BasicPlot\n",
    "\n",
    "df = diamonds.select_dtypes('number')\n",
    "df = df.corr().reset_index().melt(id_vars='index',value_vars=df.columns).rename(columns={'index':'x1','variable':'x2','value':'corr'})\n",
    "df\n",
    "BasicPlot(data=df,x='x1',y='x2').rect(fill_color='corr')"
   ]
  }
 ],
 "metadata": {
  "kernelspec": {
   "display_name": "dev",
   "language": "python",
   "name": "python3"
  },
  "language_info": {
   "codemirror_mode": {
    "name": "ipython",
    "version": 3
   },
   "file_extension": ".py",
   "mimetype": "text/x-python",
   "name": "python",
   "nbconvert_exporter": "python",
   "pygments_lexer": "ipython3",
   "version": "3.10.4"
  },
  "orig_nbformat": 4,
  "vscode": {
   "interpreter": {
    "hash": "51d1dde9815e14b572ed6a2db2168a981e549672a30f1365a915adb243fac457"
   }
  }
 },
 "nbformat": 4,
 "nbformat_minor": 2
}
