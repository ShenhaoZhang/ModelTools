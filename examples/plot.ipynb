{
 "cells": [
  {
   "cell_type": "code",
   "execution_count": null,
   "metadata": {},
   "outputs": [],
   "source": [
    "import sys \n",
    "sys.path.append('..')\n",
    "\n",
    "import numpy as np\n",
    "import pandas as pd\n",
    "import altair as alt\n",
    "from plotnine.data import mtcars,diamonds\n",
    "\n",
    "from ModelTools.plot.corr_scatter import corr_scatter\n",
    "from ModelTools.plot.ts2_scatter import ts2_scatter\n",
    "from ModelTools.plot.matrix_scatter import matrix_scatter\n",
    "from ModelTools.plot.ts_line import ts_line"
   ]
  },
  {
   "cell_type": "code",
   "execution_count": null,
   "metadata": {},
   "outputs": [],
   "source": [
    "data = diamonds.sample(100)\n",
    "data\n"
   ]
  },
  {
   "cell_type": "code",
   "execution_count": null,
   "metadata": {},
   "outputs": [],
   "source": [
    "from ModelTools.plot.corr_scatter import corr_scatter\n",
    "\n",
    "corr_scatter(\n",
    "    data=data,\n",
    "    x='carat',\n",
    "    y='price',\n",
    "    reg_method='ols',\n",
    "    reg_formula='y~x',\n",
    "    reg_qr_quantile=0.9\n",
    ")"
   ]
  },
  {
   "cell_type": "code",
   "execution_count": null,
   "metadata": {},
   "outputs": [],
   "source": [
    "corr_scatter(\n",
    "    data=data,\n",
    "    x='carat',\n",
    "    y='price',\n",
    "    smooth_method='qr',\n",
    "    stats_info=True,\n",
    "    qr_alpha=0.95\n",
    ")"
   ]
  },
  {
   "cell_type": "code",
   "execution_count": null,
   "metadata": {},
   "outputs": [],
   "source": [
    "x = np.random.normal(size=1000,scale=0.5)\n",
    "y = np.random.normal(loc=10,scale=np.exp(x))\n",
    "df = pd.DataFrame({'x':-x,'y':y})\n",
    "corr_scatter(\n",
    "    data=df,\n",
    "    x='x',\n",
    "    y='y',\n",
    "    smooth_method='qr',stats_info=True,qr_alpha=0.95\n",
    ")"
   ]
  },
  {
   "cell_type": "code",
   "execution_count": null,
   "metadata": {},
   "outputs": [],
   "source": [
    "x = np.random.normal(size=1000,scale=0.5)\n",
    "y = np.random.normal(loc=10,scale=np.exp(x))\n",
    "ts = np.arange(len(x))\n",
    "df = pd.DataFrame({'x':-x,'y':y,'ts':ts})\n",
    "\n",
    "ts2_scatter(data=df,x='x',y='y',ts='ts',geom_dist='density')"
   ]
  },
  {
   "cell_type": "code",
   "execution_count": null,
   "metadata": {},
   "outputs": [],
   "source": [
    "x1 = np.random.normal(size=1000,scale=0.5)\n",
    "x2 = np.random.normal(loc=10,scale=np.exp(x1))\n",
    "x3 = np.random.lognormal(mean=0,sigma=1,size=1000)\n",
    "x4 = np.random.normal(size=1000,scale=0.5)\n",
    "df = pd.DataFrame({'x1':x1,'x2':x2,'x3':x3,'x4':x4})\n",
    "\n",
    "matrix_scatter(data=df)"
   ]
  },
  {
   "cell_type": "code",
   "execution_count": null,
   "metadata": {},
   "outputs": [],
   "source": [
    "x1 = np.random.normal(size=1000,scale=0.5)\n",
    "x2 = np.random.normal(loc=10,scale=np.exp(x1))\n",
    "x3 = np.random.lognormal(mean=0,sigma=1,size=1000)\n",
    "c = ['a']*500 + ['b']*500\n",
    "ts = np.concatenate([np.arange(500),np.arange(500)])\n",
    "df = pd.DataFrame({'x1':x1,'x2':x2,'x3':x3,'ts':ts,'c':c})\n",
    "\n",
    "ts_line(df,x='ts',y=['x2','x3'],add_focus=True,color_by='c')"
   ]
  },
  {
   "cell_type": "code",
   "execution_count": null,
   "metadata": {},
   "outputs": [],
   "source": [
    "mtcars\n",
    "alt.Undefined == alt.Undefined"
   ]
  }
 ],
 "metadata": {
  "kernelspec": {
   "display_name": "dev",
   "language": "python",
   "name": "python3"
  },
  "language_info": {
   "codemirror_mode": {
    "name": "ipython",
    "version": 3
   },
   "file_extension": ".py",
   "mimetype": "text/x-python",
   "name": "python",
   "nbconvert_exporter": "python",
   "pygments_lexer": "ipython3",
   "version": "3.9.15"
  },
  "orig_nbformat": 4,
  "vscode": {
   "interpreter": {
    "hash": "e34af323e08c25905e0b2b867c8a99dbc7babef02ca4fe63b7576f6504dbd0e8"
   }
  }
 },
 "nbformat": 4,
 "nbformat_minor": 2
}
