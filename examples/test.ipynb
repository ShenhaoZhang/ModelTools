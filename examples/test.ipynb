{
 "cells": [
  {
   "cell_type": "code",
   "execution_count": null,
   "metadata": {},
   "outputs": [],
   "source": [
    "import sys \n",
    "sys.path.append('..')\n",
    "\n",
    "import numpy as np\n",
    "import pandas as pd\n",
    "import altair as alt\n",
    "from plotnine.data import mtcars,diamonds\n",
    "\n",
    "from ModelTools.model.builder.cr_builder import CentralRegBuilder\n",
    "mtcars.head(10)\n"
   ]
  },
  {
   "cell_type": "code",
   "execution_count": null,
   "metadata": {},
   "outputs": [],
   "source": [
    "mod = CentralRegBuilder(cv_method='kfold',cv_split=5,cv_shuffle=True,cv_score='mse').get_model_cv(struct='poly_OLS')\n",
    "mod.fit(mtcars.loc[:,['mpg','wt']],mtcars.disp)"
   ]
  },
  {
   "cell_type": "code",
   "execution_count": null,
   "metadata": {},
   "outputs": [],
   "source": [
    "list(mod.best_estimator_[-2].get_feature_names_out())"
   ]
  }
 ],
 "metadata": {
  "kernelspec": {
   "display_name": "dev",
   "language": "python",
   "name": "python3"
  },
  "language_info": {
   "codemirror_mode": {
    "name": "ipython",
    "version": 3
   },
   "file_extension": ".py",
   "mimetype": "text/x-python",
   "name": "python",
   "nbconvert_exporter": "python",
   "pygments_lexer": "ipython3",
   "version": "3.10.4"
  },
  "orig_nbformat": 4,
  "vscode": {
   "interpreter": {
    "hash": "51d1dde9815e14b572ed6a2db2168a981e549672a30f1365a915adb243fac457"
   }
  }
 },
 "nbformat": 4,
 "nbformat_minor": 2
}
