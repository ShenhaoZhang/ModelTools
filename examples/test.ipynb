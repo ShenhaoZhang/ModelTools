{
 "cells": [
  {
   "cell_type": "code",
   "execution_count": null,
   "metadata": {},
   "outputs": [],
   "source": [
    "import sys \n",
    "sys.path.append('..')\n",
    "\n",
    "import numpy as np\n",
    "import pandas as pd\n",
    "import altair as alt\n",
    "from plotnine.data import mtcars,diamonds\n",
    "\n",
    "from ModelTools.model.builder.cr_builder import CentralRegBuilder\n",
    "diamonds.head(10)\n"
   ]
  },
  {
   "cell_type": "code",
   "execution_count": null,
   "metadata": {},
   "outputs": [],
   "source": [
    "# mod = CentralRegBuilder(cv_method='kfold',cv_split=5,cv_shuffle=True,cv_score='mse').get_model_cv(struct='poly_OLS')\n",
    "# mod.fit(mtcars.loc[:,['mpg','wt']],mtcars.disp)"
   ]
  },
  {
   "cell_type": "code",
   "execution_count": null,
   "metadata": {},
   "outputs": [],
   "source": [
    "from ModelTools.plot.basic_reg import basic_reg\n",
    "\n",
    "basic_reg(data=diamonds,x='carat',y='price',formula='y~bs(x,df=3)',ci_level=0.99,reg_method='ols',qr_quantile=0.6)"
   ]
  }
 ],
 "metadata": {
  "kernelspec": {
   "display_name": "dev",
   "language": "python",
   "name": "python3"
  },
  "language_info": {
   "codemirror_mode": {
    "name": "ipython",
    "version": 3
   },
   "file_extension": ".py",
   "mimetype": "text/x-python",
   "name": "python",
   "nbconvert_exporter": "python",
   "pygments_lexer": "ipython3",
   "version": "3.9.15"
  },
  "orig_nbformat": 4,
  "vscode": {
   "interpreter": {
    "hash": "e34af323e08c25905e0b2b867c8a99dbc7babef02ca4fe63b7576f6504dbd0e8"
   }
  }
 },
 "nbformat": 4,
 "nbformat_minor": 2
}
