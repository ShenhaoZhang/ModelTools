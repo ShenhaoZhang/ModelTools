{
 "cells": [
  {
   "cell_type": "code",
   "execution_count": null,
   "metadata": {},
   "outputs": [],
   "source": [
    "import sys \n",
    "sys.path.append('..')\n",
    "\n",
    "import numpy as np\n",
    "import pandas as pd\n",
    "import altair as alt\n",
    "from plotnine.data import mtcars,diamonds\n",
    "\n",
    "from ModelTools.plot.basic import BasicPlot"
   ]
  },
  {
   "cell_type": "code",
   "execution_count": null,
   "metadata": {},
   "outputs": [],
   "source": [
    "data = diamonds.sample(100)\n",
    "data\n"
   ]
  },
  {
   "cell_type": "code",
   "execution_count": null,
   "metadata": {},
   "outputs": [],
   "source": [
    "from ModelTools.plot.corr_scatter import corr_scatter\n",
    "\n",
    "corr_scatter(\n",
    "    data=data,\n",
    "    x='carat',\n",
    "    y='price',\n",
    "    smooth_method='ols',\n",
    "    stats_info=True\n",
    ")"
   ]
  },
  {
   "cell_type": "code",
   "execution_count": null,
   "metadata": {},
   "outputs": [],
   "source": [
    "corr_scatter(\n",
    "    data=data,\n",
    "    x='carat',\n",
    "    y='price',\n",
    "    smooth_method='qr',\n",
    "    stats_info=True,\n",
    "    qr_alpha=0.95\n",
    ")"
   ]
  },
  {
   "cell_type": "code",
   "execution_count": null,
   "metadata": {},
   "outputs": [],
   "source": [
    "BasicPlot(data=data,x='carat',y='price').abline(slope=2941.67,intercept=-571)"
   ]
  },
  {
   "cell_type": "code",
   "execution_count": null,
   "metadata": {},
   "outputs": [],
   "source": [
    "corr_scatter(\n",
    "    data=data,\n",
    "    x='carat',\n",
    "    y='price',\n",
    "    smooth_method='qr',stats_info=True,qr_alpha=0.95\n",
    ")"
   ]
  },
  {
   "cell_type": "code",
   "execution_count": null,
   "metadata": {},
   "outputs": [],
   "source": [
    "import statsmodels.api as sm \n",
    "\n",
    "x = mtcars.loc[:,'mpg']\n",
    "x = sm.add_constant(x)\n",
    "y = mtcars.loc[:,'wt']\n",
    "ols = sm.OLS(y,x).fit()\n",
    "qr = sm.QuantReg(y,x).fit(q=0.8)\n",
    "\n",
    "ols.summary()"
   ]
  },
  {
   "cell_type": "code",
   "execution_count": null,
   "metadata": {},
   "outputs": [],
   "source": [
    "qr.summary()"
   ]
  },
  {
   "cell_type": "code",
   "execution_count": null,
   "metadata": {},
   "outputs": [],
   "source": [
    "qr.params"
   ]
  },
  {
   "cell_type": "code",
   "execution_count": null,
   "metadata": {},
   "outputs": [],
   "source": [
    "ols.conf_int().at['mpg',1]"
   ]
  },
  {
   "cell_type": "code",
   "execution_count": null,
   "metadata": {},
   "outputs": [],
   "source": [
    "x = np.random.normal(size=1000,scale=0.5)\n",
    "y = np.random.normal(loc=10,scale=np.exp(x))\n",
    "df = pd.DataFrame({'x':-x,'y':y})\n",
    "corr_scatter(\n",
    "    data=df,\n",
    "    x='x',\n",
    "    y='y',\n",
    "    smooth_method='qr',stats_info=True,qr_alpha=0.01\n",
    ")"
   ]
  }
 ],
 "metadata": {
  "kernelspec": {
   "display_name": "dev",
   "language": "python",
   "name": "python3"
  },
  "language_info": {
   "codemirror_mode": {
    "name": "ipython",
    "version": 3
   },
   "file_extension": ".py",
   "mimetype": "text/x-python",
   "name": "python",
   "nbconvert_exporter": "python",
   "pygments_lexer": "ipython3",
   "version": "3.9.15"
  },
  "orig_nbformat": 4,
  "vscode": {
   "interpreter": {
    "hash": "e34af323e08c25905e0b2b867c8a99dbc7babef02ca4fe63b7576f6504dbd0e8"
   }
  }
 },
 "nbformat": 4,
 "nbformat_minor": 2
}
