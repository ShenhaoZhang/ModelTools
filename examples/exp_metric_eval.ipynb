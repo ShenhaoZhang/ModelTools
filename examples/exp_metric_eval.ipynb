{
 "cells": [
  {
   "cell_type": "code",
   "execution_count": null,
   "metadata": {},
   "outputs": [],
   "source": [
    "import sys as sys \n",
    "sys.path.append('..')\n",
    "\n",
    "import numpy as np\n",
    "import pandas as pd\n",
    "\n",
    "from ModelTools.metric.central_metric import CentralMetric\n",
    "from ModelTools.metric.quantile_metric import QuantileMetric"
   ]
  },
  {
   "cell_type": "code",
   "execution_count": null,
   "metadata": {},
   "outputs": [],
   "source": [
    "rng = np.random.default_rng(0)\n",
    "n = 1000\n",
    "x = rng.normal(size=n,scale=3)\n",
    "y1 = x+rng.normal(size=n,scale=0.5)\n",
    "y2 = x+rng.normal(size=n,scale=2)\n",
    "y3 = x+2*rng.lognormal(size=n,sigma=0.5)\n",
    "ts = pd.date_range(start='20010101010100',freq='min',periods=n)\n",
    "\n",
    "em = QuantileMetric(x,[y1,y2,y3],y_pred_name=['Model1','Model2','Model3'],y_name='Hz',index=ts,index_freq='min')\n",
    "# print(em.get_metric())\n",
    "# print(em.data)\n",
    "# print(em.plot_TvP())\n",
    "# print(em.plot_Pts())\n",
    "# print(em.plot_Rts())\n",
    "em.get_metric()"
   ]
  },
  {
   "cell_type": "code",
   "execution_count": null,
   "metadata": {},
   "outputs": [],
   "source": [
    "em.plot_Rts(engine='alt',scales='free')"
   ]
  },
  {
   "cell_type": "code",
   "execution_count": null,
   "metadata": {},
   "outputs": [],
   "source": [
    "em.plot_TvP(engine='alt')"
   ]
  },
  {
   "cell_type": "code",
   "execution_count": null,
   "metadata": {},
   "outputs": [],
   "source": [
    "em.data.Method.unique()"
   ]
  }
 ],
 "metadata": {
  "kernelspec": {
   "display_name": "Python 3.10.4 ('dev')",
   "language": "python",
   "name": "python3"
  },
  "language_info": {
   "codemirror_mode": {
    "name": "ipython",
    "version": 3
   },
   "file_extension": ".py",
   "mimetype": "text/x-python",
   "name": "python",
   "nbconvert_exporter": "python",
   "pygments_lexer": "ipython3",
   "version": "3.10.4"
  },
  "orig_nbformat": 4,
  "vscode": {
   "interpreter": {
    "hash": "51d1dde9815e14b572ed6a2db2168a981e549672a30f1365a915adb243fac457"
   }
  }
 },
 "nbformat": 4,
 "nbformat_minor": 2
}
