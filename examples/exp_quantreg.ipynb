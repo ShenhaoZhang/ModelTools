{
 "cells": [
  {
   "cell_type": "code",
   "execution_count": null,
   "metadata": {},
   "outputs": [],
   "source": [
    "import sys as sys \n",
    "sys.path.append('..')\n",
    "\n",
    "import numpy as np \n",
    "import pandas as pd\n",
    "from ModelTools.model import QuantileRegression\n",
    "import plotnine as gg"
   ]
  },
  {
   "cell_type": "code",
   "execution_count": null,
   "metadata": {},
   "outputs": [],
   "source": [
    "n = 5000\n",
    "rng = np.random.default_rng(0)\n",
    "x1 = rng.normal(size=n,loc=0,scale=1)\n",
    "x2 = rng.normal(size=n,loc=0,scale=0.5)\n",
    "y = rng.normal(size=n,loc=0,scale=np.exp(x1))\n",
    "df = pd.DataFrame(data={'x1':x1,'y':y,'x2':x2})\n",
    "\n",
    "qr = QuantileRegression(data=df,quantile=0.95,col_x=['x1','x2'],col_y='y',exp_model=True,cv_score='pinball')\n",
    "qr.fit().fit_final_model()\n",
    "\n",
    "\n"
   ]
  },
  {
   "cell_type": "code",
   "execution_count": null,
   "metadata": {},
   "outputs": [],
   "source": [
    "qr.check_metric()"
   ]
  },
  {
   "cell_type": "code",
   "execution_count": null,
   "metadata": {},
   "outputs": [],
   "source": [
    "(\n",
    "    df\n",
    "    .pipe(gg.ggplot)\n",
    "    + gg.aes(x='x1',y='y')\n",
    "    + gg.geom_point()\n",
    "    + gg.geom_line(gg.aes(y=qr.predict()),color='red')\n",
    ")"
   ]
  },
  {
   "cell_type": "code",
   "execution_count": null,
   "metadata": {},
   "outputs": [],
   "source": [
    "qr.ExpFinal.model_profile(type='pdp')"
   ]
  },
  {
   "cell_type": "code",
   "execution_count": null,
   "metadata": {},
   "outputs": [],
   "source": [
    "qr.ExpFinal.model_part()"
   ]
  }
 ],
 "metadata": {
  "kernelspec": {
   "display_name": "Python 3.9.15 ('dev')",
   "language": "python",
   "name": "python3"
  },
  "language_info": {
   "codemirror_mode": {
    "name": "ipython",
    "version": 3
   },
   "file_extension": ".py",
   "mimetype": "text/x-python",
   "name": "python",
   "nbconvert_exporter": "python",
   "pygments_lexer": "ipython3",
   "version": "3.9.15"
  },
  "orig_nbformat": 4,
  "vscode": {
   "interpreter": {
    "hash": "e34af323e08c25905e0b2b867c8a99dbc7babef02ca4fe63b7576f6504dbd0e8"
   }
  }
 },
 "nbformat": 4,
 "nbformat_minor": 2
}
