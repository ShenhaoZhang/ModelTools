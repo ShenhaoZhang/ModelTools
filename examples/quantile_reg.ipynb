{
 "cells": [
  {
   "cell_type": "code",
   "execution_count": null,
   "metadata": {},
   "outputs": [],
   "source": [
    "import sys as sys \n",
    "sys.path.append('..')\n",
    "\n",
    "import numpy as np \n",
    "import pandas as pd\n",
    "from ModelTools.regression.linear_model import LinearModel\n",
    "import plotnine as gg"
   ]
  },
  {
   "cell_type": "code",
   "execution_count": null,
   "metadata": {},
   "outputs": [],
   "source": [
    "n = 1000\n",
    "rng = np.random.default_rng(0)\n",
    "x = rng.normal(size=n,loc=0,scale=1)\n",
    "y = rng.normal(size=n,loc=0,scale=np.exp(0.7*x))\n",
    "df = pd.DataFrame(data={'x':x,'y':y})\n",
    "\n",
    "gg.qplot('x','y',data=df)"
   ]
  },
  {
   "cell_type": "code",
   "execution_count": null,
   "metadata": {},
   "outputs": [],
   "source": [
    "fml1 = 'y~x+I(x**2)+I(x**3)'\n",
    "fml2 = 'y~bs(x,df=3)'\n",
    "mod = LinearModel(fml2,data=df).fit(method='QR',method_kwargs={'quantile':0.95,'alpha':0},n_bootstrap=100)\n",
    "mod.summary()"
   ]
  },
  {
   "cell_type": "code",
   "execution_count": null,
   "metadata": {},
   "outputs": [],
   "source": [
    "mod.prediction()"
   ]
  },
  {
   "cell_type": "code",
   "execution_count": null,
   "metadata": {},
   "outputs": [],
   "source": [
    "mod.plot_prediction({'x':'line'})"
   ]
  },
  {
   "cell_type": "code",
   "execution_count": null,
   "metadata": {},
   "outputs": [],
   "source": [
    "mod.plot_slope({'x':'line'})"
   ]
  },
  {
   "cell_type": "code",
   "execution_count": null,
   "metadata": {},
   "outputs": [],
   "source": [
    "(\n",
    "    mod.prediction()\n",
    "    .pipe(gg.ggplot)\n",
    "    + gg.aes(x='x',y='y')\n",
    "    + gg.geom_point()\n",
    "    + gg.geom_line(gg.aes(y='mean'),color='red',size=1)\n",
    ")"
   ]
  }
 ],
 "metadata": {
  "kernelspec": {
   "display_name": "Python 3.9.15 ('dev')",
   "language": "python",
   "name": "python3"
  },
  "language_info": {
   "codemirror_mode": {
    "name": "ipython",
    "version": 3
   },
   "file_extension": ".py",
   "mimetype": "text/x-python",
   "name": "python",
   "nbconvert_exporter": "python",
   "pygments_lexer": "ipython3",
   "version": "3.11.4"
  },
  "orig_nbformat": 4,
  "vscode": {
   "interpreter": {
    "hash": "e34af323e08c25905e0b2b867c8a99dbc7babef02ca4fe63b7576f6504dbd0e8"
   }
  }
 },
 "nbformat": 4,
 "nbformat_minor": 2
}
