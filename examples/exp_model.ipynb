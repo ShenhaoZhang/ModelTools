{
 "cells": [
  {
   "cell_type": "code",
   "execution_count": 1,
   "metadata": {},
   "outputs": [],
   "source": [
    "import sys as sys \n",
    "sys.path.append('..')\n",
    "\n",
    "import numpy as np \n",
    "import pandas as pd\n",
    "from ModelTools.Model.Model import Model\n"
   ]
  },
  {
   "cell_type": "code",
   "execution_count": 2,
   "metadata": {},
   "outputs": [
    {
     "name": "stderr",
     "output_type": "stream",
     "text": [
      "100%|██████████| 8/8 [00:05<00:00,  1.40it/s]\n"
     ]
    }
   ],
   "source": [
    "n = 500\n",
    "rng = np.random.default_rng(0)\n",
    "x1 = rng.normal(size=n)\n",
    "x2 = rng.normal(size=n)\n",
    "y = rng.normal(loc=np.sin(x1) + np.cos(x2) + np.sin(x1) * np.cos(x2),scale=1)\n",
    "df = pd.DataFrame(data={'x1':x1,'x2':x2,'y':y,'ts':pd.date_range(start='2000-01-01',periods=n,freq='min')})\n",
    "\n",
    "# print(df)\n",
    "\n",
    "m = Model(data=df,col_x=['x1','x2'],col_y='y',col_ts='ts',ts_freq='min')\n",
    "m.fit()"
   ]
  },
  {
   "cell_type": "code",
   "execution_count": 3,
   "metadata": {},
   "outputs": [
    {
     "data": {
      "text/html": [
       "\n",
       "<div id=\"altair-viz-e74138d15553439faf3bf490d993fe53\"></div>\n",
       "<script type=\"text/javascript\">\n",
       "  var VEGA_DEBUG = (typeof VEGA_DEBUG == \"undefined\") ? {} : VEGA_DEBUG;\n",
       "  (function(spec, embedOpt){\n",
       "    let outputDiv = document.currentScript.previousElementSibling;\n",
       "    if (outputDiv.id !== \"altair-viz-e74138d15553439faf3bf490d993fe53\") {\n",
       "      outputDiv = document.getElementById(\"altair-viz-e74138d15553439faf3bf490d993fe53\");\n",
       "    }\n",
       "    const paths = {\n",
       "      \"vega\": \"https://cdn.jsdelivr.net/npm//vega@5?noext\",\n",
       "      \"vega-lib\": \"https://cdn.jsdelivr.net/npm//vega-lib?noext\",\n",
       "      \"vega-lite\": \"https://cdn.jsdelivr.net/npm//vega-lite@4.17.0?noext\",\n",
       "      \"vega-embed\": \"https://cdn.jsdelivr.net/npm//vega-embed@6?noext\",\n",
       "    };\n",
       "\n",
       "    function maybeLoadScript(lib, version) {\n",
       "      var key = `${lib.replace(\"-\", \"\")}_version`;\n",
       "      return (VEGA_DEBUG[key] == version) ?\n",
       "        Promise.resolve(paths[lib]) :\n",
       "        new Promise(function(resolve, reject) {\n",
       "          var s = document.createElement('script');\n",
       "          document.getElementsByTagName(\"head\")[0].appendChild(s);\n",
       "          s.async = true;\n",
       "          s.onload = () => {\n",
       "            VEGA_DEBUG[key] = version;\n",
       "            return resolve(paths[lib]);\n",
       "          };\n",
       "          s.onerror = () => reject(`Error loading script: ${paths[lib]}`);\n",
       "          s.src = paths[lib];\n",
       "        });\n",
       "    }\n",
       "\n",
       "    function showError(err) {\n",
       "      outputDiv.innerHTML = `<div class=\"error\" style=\"color:red;\">${err}</div>`;\n",
       "      throw err;\n",
       "    }\n",
       "\n",
       "    function displayChart(vegaEmbed) {\n",
       "      vegaEmbed(outputDiv, spec, embedOpt)\n",
       "        .catch(err => showError(`Javascript Error: ${err.message}<br>This usually means there's a typo in your chart specification. See the javascript console for the full traceback.`));\n",
       "    }\n",
       "\n",
       "    if(typeof define === \"function\" && define.amd) {\n",
       "      requirejs.config({paths});\n",
       "      require([\"vega-embed\"], displayChart, err => showError(`Error loading script: ${err.message}`));\n",
       "    } else {\n",
       "      maybeLoadScript(\"vega\", \"5\")\n",
       "        .then(() => maybeLoadScript(\"vega-lite\", \"4.17.0\"))\n",
       "        .then(() => maybeLoadScript(\"vega-embed\", \"6\"))\n",
       "        .catch(showError)\n",
       "        .then(() => displayChart(vegaEmbed));\n",
       "    }\n",
       "  })({\"config\": {\"view\": {\"continuousWidth\": 400, \"continuousHeight\": 300}}, \"vconcat\": [{\"data\": {\"name\": \"data-6f6a7ca1e15e353d6ba346c33feab3c1\"}, \"mark\": \"bar\", \"encoding\": {\"x\": {\"field\": \"PC1\", \"type\": \"quantitative\"}, \"y\": {\"field\": \"index\", \"sort\": \"-x\", \"title\": null, \"type\": \"nominal\"}}, \"height\": 72}, {\"hconcat\": [{\"layer\": [{\"mark\": \"circle\", \"encoding\": {\"tooltip\": [{\"field\": \"index\", \"type\": \"nominal\"}, {\"field\": \"R2\", \"type\": \"quantitative\"}, {\"field\": \"MAE\", \"type\": \"quantitative\"}, {\"field\": \"MBE\", \"type\": \"quantitative\"}, {\"field\": \"MAPE\", \"type\": \"quantitative\"}, {\"field\": \"MSE\", \"type\": \"quantitative\"}, {\"field\": \"MAXE\", \"type\": \"quantitative\"}], \"x\": {\"field\": \"PC1\", \"title\": \"PC1 (75.89%)\", \"type\": \"quantitative\"}, \"y\": {\"field\": \"PC2\", \"title\": \"PC2 (21.08%)\", \"type\": \"quantitative\"}}, \"title\": \"BioPlot (96.98%)\"}, {\"mark\": {\"type\": \"rule\", \"size\": 1, \"strokeDash\": [12, 6]}, \"encoding\": {\"y\": {\"datum\": 0}}, \"title\": \"BioPlot (96.98%)\"}, {\"mark\": {\"type\": \"rule\", \"size\": 1, \"strokeDash\": [12, 6]}, \"encoding\": {\"x\": {\"datum\": 0}}, \"title\": \"BioPlot (96.98%)\"}], \"data\": {\"name\": \"data-12b0efb2c5437d07aa081e6281286f1c\"}}, {\"data\": {\"name\": \"data-6f6a7ca1e15e353d6ba346c33feab3c1\"}, \"mark\": \"bar\", \"encoding\": {\"x\": {\"field\": \"index\", \"sort\": \"-y\", \"title\": null, \"type\": \"nominal\"}, \"y\": {\"field\": \"PC2\", \"type\": \"quantitative\"}}, \"width\": 72}]}], \"$schema\": \"https://vega.github.io/schema/vega-lite/v4.17.0.json\", \"datasets\": {\"data-6f6a7ca1e15e353d6ba346c33feab3c1\": [{\"index\": \"R2\", \"PC1\": -0.4621418248956514, \"PC2\": 0.4619810238261208}, {\"index\": \"MAE\", \"PC1\": -0.13249175626191098, \"PC2\": -0.026839225819665993}, {\"index\": \"MBE\", \"PC1\": -0.13529494714143853, \"PC2\": 0.38371379280731494}, {\"index\": \"MAPE\", \"PC1\": 0.49444785536925967, \"PC2\": 0.42257065158503376}, {\"index\": \"MSE\", \"PC1\": 0.07802220070904191, \"PC2\": 0.6782705649004646}, {\"index\": \"MAXE\", \"PC1\": -0.7071067811865509, \"PC2\": -6.01416949639954e-15}], \"data-12b0efb2c5437d07aa081e6281286f1c\": [{\"index\": \"Pred_inter_sp_OLS\", \"PC1\": -2.3065387879773342, \"PC2\": 0.35279856372210805, \"PC3\": -0.26165834966658735, \"PC4\": -0.08224448548437906, \"PC5\": 0.06038293606456827, \"PC6\": 1.9318298727602523e-16, \"R2\": 0.540139909627495, \"MAE\": 0.809117466702616, \"MBE\": 0.03758379013014231, \"MAPE\": 1.1525363496006882, \"MSE\": 1.0466635732192922, \"MAXE\": 2.617498712049467}, {\"index\": \"Pred_inter_sp_std_EN\", \"PC1\": -2.126915449692248, \"PC2\": 0.3252601348319364, \"PC3\": -0.3008662512550223, \"PC4\": -0.1242372446021342, \"PC5\": -0.0517951648048497, \"PC6\": 5.115967361750766e-16, \"R2\": 0.5378002274577228, \"MAE\": 0.8085485417103985, \"MBE\": 0.03522939005596692, \"MAPE\": 1.2384929189800438, \"MSE\": 1.0519888018078996, \"MAXE\": 2.6293141535275644}, {\"index\": \"Pred_inter_sp_std_HUBER\", \"PC1\": -2.0151535105153604, \"PC2\": 0.2526590529126119, \"PC3\": -0.33065709637904905, \"PC4\": 0.17447605250360565, \"PC5\": -0.009802673100596834, \"PC6\": -7.882371370622042e-16, \"R2\": 0.5403522601096518, \"MAE\": 0.8130008689809142, \"MBE\": 0.03308841338467349, \"MAPE\": 1.3510424910569006, \"MSE\": 1.046180253359443, \"MAXE\": 2.6507324651002784}, {\"index\": \"Pred_inter_sp_std_QR\", \"PC1\": -1.1960522396523114, \"PC2\": 1.0267179570457199, \"PC3\": 0.9004849266845006, \"PC4\": 0.05649179442983124, \"PC5\": -0.0014147950795962184, \"PC6\": 7.72315258759352e-16, \"R2\": 0.5244188086017254, \"MAE\": 0.8307748210259215, \"MBE\": 0.06827613162401905, \"MAPE\": 1.5058665794192132, \"MSE\": 1.0824455515189193, \"MAXE\": 2.6246547527886595}, {\"index\": \"Pred_poly_OLS\", \"PC1\": 0.9839853913653669, \"PC2\": -1.4855990559552323, \"PC3\": 0.21342494346351215, \"PC4\": -0.04340780001279922, \"PC5\": 0.0016788960577621503, \"PC6\": 3.861573696510979e-16, \"R2\": 0.5101688179605364, \"MAE\": 0.848208189587448, \"MBE\": -0.0240610373407825, \"MAPE\": 2.43177630032285, \"MSE\": 1.1148792121802884, \"MAXE\": 2.506241271592769}, {\"index\": \"Pred_poly_std_EN\", \"PC1\": 0.652973445617026, \"PC2\": -1.6017714695149274, \"PC3\": 0.28031615643458596, \"PC4\": -0.032109649884466955, \"PC5\": -0.002590839520707477, \"PC6\": -1.052706157048927e-15, \"R2\": 0.5138863631836286, \"MAE\": 0.845443102426284, \"MBE\": -0.022482458069826596, \"MAPE\": 2.370092212527327, \"MSE\": 1.1064179013419113, \"MAXE\": 2.4545268972465855}, {\"index\": \"Pred_poly_std_HUBER\", \"PC1\": 2.0949790592992446, \"PC2\": -0.7312917871645395, \"PC3\": -0.4041611844703688, \"PC4\": 0.09394676543155882, \"PC5\": 0.003384486287430991, \"PC6\": 1.4471701702457004e-15, \"R2\": 0.4997376111815329, \"MAE\": 0.8553378174233998, \"MBE\": -0.0277462491324219, \"MAPE\": 2.6071035184288887, \"MSE\": 1.1386211380157245, \"MAXE\": 2.8086878122913976}, {\"index\": \"Pred_poly_std_QR\", \"PC1\": 3.912722091555615, \"PC2\": 1.861226604122323, \"PC3\": -0.09688314481157069, \"PC4\": -0.04291543238121613, \"PC5\": 0.00015715409598874384, \"PC6\": -4.741858956009298e-16, \"R2\": 0.4705285000131286, \"MAE\": 0.8740660329151717, \"MBE\": 0.02293406060759359, \"MAPE\": 2.667257816714467, \"MSE\": 1.2051024728958988, \"MAXE\": 3.2765279933981324}]}}, {\"mode\": \"vega-lite\"});\n",
       "</script>"
      ],
      "text/plain": [
       "alt.VConcatChart(...)"
      ]
     },
     "execution_count": 3,
     "metadata": {},
     "output_type": "execute_result"
    }
   ],
   "source": [
    "m.Metric.plot_metric_scatter(type='pca')"
   ]
  },
  {
   "cell_type": "code",
   "execution_count": 7,
   "metadata": {},
   "outputs": [
    {
     "name": "stdout",
     "output_type": "stream",
     "text": [
      "                     index       PC1       PC2       PC3       PC4       PC5  \\\n",
      "0        Pred_inter_sp_OLS -2.306539  0.352799 -0.261658 -0.082244  0.060383   \n",
      "1     Pred_inter_sp_std_EN -2.126915  0.325260 -0.300866 -0.124237 -0.051795   \n",
      "2  Pred_inter_sp_std_HUBER -2.015154  0.252659 -0.330657  0.174476 -0.009803   \n",
      "3     Pred_inter_sp_std_QR -1.196052  1.026718  0.900485  0.056492 -0.001415   \n",
      "4            Pred_poly_OLS  0.983985 -1.485599  0.213425 -0.043408  0.001679   \n",
      "5         Pred_poly_std_EN  0.652973 -1.601771  0.280316 -0.032110 -0.002591   \n",
      "6      Pred_poly_std_HUBER  2.094979 -0.731292 -0.404161  0.093947  0.003384   \n",
      "7         Pred_poly_std_QR  3.912722  1.861227 -0.096883 -0.042915  0.000157   \n",
      "\n",
      "            PC6        R2       MAE       MBE      MAPE       MSE      MAXE  \n",
      "0  1.931830e-16  0.540140  0.809117  0.037584  1.152536  1.046664  2.617499  \n",
      "1  5.115967e-16  0.537800  0.808549  0.035229  1.238493  1.051989  2.629314  \n",
      "2 -7.882371e-16  0.540352  0.813001  0.033088  1.351042  1.046180  2.650732  \n",
      "3  7.723153e-16  0.524419  0.830775  0.068276  1.505867  1.082446  2.624655  \n",
      "4  3.861574e-16  0.510169  0.848208 -0.024061  2.431776  1.114879  2.506241  \n",
      "5 -1.052706e-15  0.513886  0.845443 -0.022482  2.370092  1.106418  2.454527  \n",
      "6  1.447170e-15  0.499738  0.855338 -0.027746  2.607104  1.138621  2.808688  \n",
      "7 -4.741859e-16  0.470529  0.874066  0.022934  2.667258  1.205102  3.276528  \n"
     ]
    },
    {
     "data": {
      "text/html": [
       "\n",
       "<div id=\"altair-viz-e7d61db4d2f2419cb23a2f8c0d6e7b5e\"></div>\n",
       "<script type=\"text/javascript\">\n",
       "  var VEGA_DEBUG = (typeof VEGA_DEBUG == \"undefined\") ? {} : VEGA_DEBUG;\n",
       "  (function(spec, embedOpt){\n",
       "    let outputDiv = document.currentScript.previousElementSibling;\n",
       "    if (outputDiv.id !== \"altair-viz-e7d61db4d2f2419cb23a2f8c0d6e7b5e\") {\n",
       "      outputDiv = document.getElementById(\"altair-viz-e7d61db4d2f2419cb23a2f8c0d6e7b5e\");\n",
       "    }\n",
       "    const paths = {\n",
       "      \"vega\": \"https://cdn.jsdelivr.net/npm//vega@5?noext\",\n",
       "      \"vega-lib\": \"https://cdn.jsdelivr.net/npm//vega-lib?noext\",\n",
       "      \"vega-lite\": \"https://cdn.jsdelivr.net/npm//vega-lite@4.17.0?noext\",\n",
       "      \"vega-embed\": \"https://cdn.jsdelivr.net/npm//vega-embed@6?noext\",\n",
       "    };\n",
       "\n",
       "    function maybeLoadScript(lib, version) {\n",
       "      var key = `${lib.replace(\"-\", \"\")}_version`;\n",
       "      return (VEGA_DEBUG[key] == version) ?\n",
       "        Promise.resolve(paths[lib]) :\n",
       "        new Promise(function(resolve, reject) {\n",
       "          var s = document.createElement('script');\n",
       "          document.getElementsByTagName(\"head\")[0].appendChild(s);\n",
       "          s.async = true;\n",
       "          s.onload = () => {\n",
       "            VEGA_DEBUG[key] = version;\n",
       "            return resolve(paths[lib]);\n",
       "          };\n",
       "          s.onerror = () => reject(`Error loading script: ${paths[lib]}`);\n",
       "          s.src = paths[lib];\n",
       "        });\n",
       "    }\n",
       "\n",
       "    function showError(err) {\n",
       "      outputDiv.innerHTML = `<div class=\"error\" style=\"color:red;\">${err}</div>`;\n",
       "      throw err;\n",
       "    }\n",
       "\n",
       "    function displayChart(vegaEmbed) {\n",
       "      vegaEmbed(outputDiv, spec, embedOpt)\n",
       "        .catch(err => showError(`Javascript Error: ${err.message}<br>This usually means there's a typo in your chart specification. See the javascript console for the full traceback.`));\n",
       "    }\n",
       "\n",
       "    if(typeof define === \"function\" && define.amd) {\n",
       "      requirejs.config({paths});\n",
       "      require([\"vega-embed\"], displayChart, err => showError(`Error loading script: ${err.message}`));\n",
       "    } else {\n",
       "      maybeLoadScript(\"vega\", \"5\")\n",
       "        .then(() => maybeLoadScript(\"vega-lite\", \"4.17.0\"))\n",
       "        .then(() => maybeLoadScript(\"vega-embed\", \"6\"))\n",
       "        .catch(showError)\n",
       "        .then(() => displayChart(vegaEmbed));\n",
       "    }\n",
       "  })({\"config\": {\"view\": {\"continuousWidth\": 400, \"continuousHeight\": 300}}, \"vconcat\": [{\"data\": {\"name\": \"data-6f6a7ca1e15e353d6ba346c33feab3c1\"}, \"mark\": \"bar\", \"encoding\": {\"x\": {\"field\": \"PC1\", \"type\": \"quantitative\"}, \"y\": {\"field\": \"index\", \"sort\": \"-x\", \"title\": null, \"type\": \"nominal\"}}, \"height\": 72}, {\"hconcat\": [{\"layer\": [{\"mark\": \"circle\", \"encoding\": {\"tooltip\": [{\"field\": \"R2\", \"type\": \"quantitative\"}, {\"field\": \"MAE\", \"type\": \"quantitative\"}, {\"field\": \"MBE\", \"type\": \"quantitative\"}, {\"field\": \"MAPE\", \"type\": \"quantitative\"}, {\"field\": \"MSE\", \"type\": \"quantitative\"}, {\"field\": \"MAXE\", \"type\": \"quantitative\"}], \"x\": {\"field\": \"PC1\", \"title\": \"PC1 (75.89%)\", \"type\": \"quantitative\"}, \"y\": {\"field\": \"PC2\", \"title\": \"PC2 (21.08%)\", \"type\": \"quantitative\"}}, \"title\": \"BioPlot (96.98%)\"}, {\"mark\": {\"type\": \"rule\", \"size\": 1, \"strokeDash\": [12, 6]}, \"encoding\": {\"y\": {\"datum\": 0}}, \"title\": \"BioPlot (96.98%)\"}, {\"mark\": {\"type\": \"rule\", \"size\": 1, \"strokeDash\": [12, 6]}, \"encoding\": {\"x\": {\"datum\": 0}}, \"title\": \"BioPlot (96.98%)\"}], \"data\": {\"name\": \"data-7bd9578fc654b55ce390a7e952924271\"}}, {\"data\": {\"name\": \"data-6f6a7ca1e15e353d6ba346c33feab3c1\"}, \"mark\": \"bar\", \"encoding\": {\"x\": {\"field\": \"index\", \"sort\": \"-y\", \"title\": null, \"type\": \"nominal\"}, \"y\": {\"field\": \"PC2\", \"type\": \"quantitative\"}}, \"width\": 72}]}], \"$schema\": \"https://vega.github.io/schema/vega-lite/v4.17.0.json\", \"datasets\": {\"data-6f6a7ca1e15e353d6ba346c33feab3c1\": [{\"index\": \"R2\", \"PC1\": -0.4621418248956514, \"PC2\": 0.4619810238261208}, {\"index\": \"MAE\", \"PC1\": -0.13249175626191098, \"PC2\": -0.026839225819665993}, {\"index\": \"MBE\", \"PC1\": -0.13529494714143853, \"PC2\": 0.38371379280731494}, {\"index\": \"MAPE\", \"PC1\": 0.49444785536925967, \"PC2\": 0.42257065158503376}, {\"index\": \"MSE\", \"PC1\": 0.07802220070904191, \"PC2\": 0.6782705649004646}, {\"index\": \"MAXE\", \"PC1\": -0.7071067811865509, \"PC2\": -6.01416949639954e-15}], \"data-7bd9578fc654b55ce390a7e952924271\": [{\"index\": \"Pred_inter_sp_OLS\", \"PC1\": -2.3065387879773342, \"PC2\": 0.35279856372210805, \"PC3\": -0.26165834966658735, \"PC4\": -0.08224448548437906, \"PC5\": 0.06038293606456827, \"PC6\": 1.9318298727602523e-16, \"R2\": null, \"MAE\": null, \"MBE\": null, \"MAPE\": null, \"MSE\": null, \"MAXE\": null}, {\"index\": \"Pred_inter_sp_std_EN\", \"PC1\": -2.126915449692248, \"PC2\": 0.3252601348319364, \"PC3\": -0.3008662512550223, \"PC4\": -0.1242372446021342, \"PC5\": -0.0517951648048497, \"PC6\": 5.115967361750766e-16, \"R2\": null, \"MAE\": null, \"MBE\": null, \"MAPE\": null, \"MSE\": null, \"MAXE\": null}, {\"index\": \"Pred_inter_sp_std_HUBER\", \"PC1\": -2.0151535105153604, \"PC2\": 0.2526590529126119, \"PC3\": -0.33065709637904905, \"PC4\": 0.17447605250360565, \"PC5\": -0.009802673100596834, \"PC6\": -7.882371370622042e-16, \"R2\": null, \"MAE\": null, \"MBE\": null, \"MAPE\": null, \"MSE\": null, \"MAXE\": null}, {\"index\": \"Pred_inter_sp_std_QR\", \"PC1\": -1.1960522396523114, \"PC2\": 1.0267179570457199, \"PC3\": 0.9004849266845006, \"PC4\": 0.05649179442983124, \"PC5\": -0.0014147950795962184, \"PC6\": 7.72315258759352e-16, \"R2\": null, \"MAE\": null, \"MBE\": null, \"MAPE\": null, \"MSE\": null, \"MAXE\": null}, {\"index\": \"Pred_poly_OLS\", \"PC1\": 0.9839853913653669, \"PC2\": -1.4855990559552323, \"PC3\": 0.21342494346351215, \"PC4\": -0.04340780001279922, \"PC5\": 0.0016788960577621503, \"PC6\": 3.861573696510979e-16, \"R2\": null, \"MAE\": null, \"MBE\": null, \"MAPE\": null, \"MSE\": null, \"MAXE\": null}, {\"index\": \"Pred_poly_std_EN\", \"PC1\": 0.652973445617026, \"PC2\": -1.6017714695149274, \"PC3\": 0.28031615643458596, \"PC4\": -0.032109649884466955, \"PC5\": -0.002590839520707477, \"PC6\": -1.052706157048927e-15, \"R2\": null, \"MAE\": null, \"MBE\": null, \"MAPE\": null, \"MSE\": null, \"MAXE\": null}, {\"index\": \"Pred_poly_std_HUBER\", \"PC1\": 2.0949790592992446, \"PC2\": -0.7312917871645395, \"PC3\": -0.4041611844703688, \"PC4\": 0.09394676543155882, \"PC5\": 0.003384486287430991, \"PC6\": 1.4471701702457004e-15, \"R2\": null, \"MAE\": null, \"MBE\": null, \"MAPE\": null, \"MSE\": null, \"MAXE\": null}, {\"index\": \"Pred_poly_std_QR\", \"PC1\": 3.912722091555615, \"PC2\": 1.861226604122323, \"PC3\": -0.09688314481157069, \"PC4\": -0.04291543238121613, \"PC5\": 0.00015715409598874384, \"PC6\": -4.741858956009298e-16, \"R2\": null, \"MAE\": null, \"MBE\": null, \"MAPE\": null, \"MSE\": null, \"MAXE\": null}, {\"index\": null, \"PC1\": null, \"PC2\": null, \"PC3\": null, \"PC4\": null, \"PC5\": null, \"PC6\": null, \"R2\": 0.540139909627495, \"MAE\": 0.809117466702616, \"MBE\": 0.03758379013014231, \"MAPE\": 1.1525363496006882, \"MSE\": 1.0466635732192922, \"MAXE\": 2.617498712049467}, {\"index\": null, \"PC1\": null, \"PC2\": null, \"PC3\": null, \"PC4\": null, \"PC5\": null, \"PC6\": null, \"R2\": 0.5378002274577228, \"MAE\": 0.8085485417103985, \"MBE\": 0.03522939005596692, \"MAPE\": 1.2384929189800438, \"MSE\": 1.0519888018078996, \"MAXE\": 2.6293141535275644}, {\"index\": null, \"PC1\": null, \"PC2\": null, \"PC3\": null, \"PC4\": null, \"PC5\": null, \"PC6\": null, \"R2\": 0.5403522601096518, \"MAE\": 0.8130008689809142, \"MBE\": 0.03308841338467349, \"MAPE\": 1.3510424910569006, \"MSE\": 1.046180253359443, \"MAXE\": 2.6507324651002784}, {\"index\": null, \"PC1\": null, \"PC2\": null, \"PC3\": null, \"PC4\": null, \"PC5\": null, \"PC6\": null, \"R2\": 0.5244188086017254, \"MAE\": 0.8307748210259215, \"MBE\": 0.06827613162401905, \"MAPE\": 1.5058665794192132, \"MSE\": 1.0824455515189193, \"MAXE\": 2.6246547527886595}, {\"index\": null, \"PC1\": null, \"PC2\": null, \"PC3\": null, \"PC4\": null, \"PC5\": null, \"PC6\": null, \"R2\": 0.5101688179605364, \"MAE\": 0.848208189587448, \"MBE\": -0.0240610373407825, \"MAPE\": 2.43177630032285, \"MSE\": 1.1148792121802884, \"MAXE\": 2.506241271592769}, {\"index\": null, \"PC1\": null, \"PC2\": null, \"PC3\": null, \"PC4\": null, \"PC5\": null, \"PC6\": null, \"R2\": 0.5138863631836286, \"MAE\": 0.845443102426284, \"MBE\": -0.022482458069826596, \"MAPE\": 2.370092212527327, \"MSE\": 1.1064179013419113, \"MAXE\": 2.4545268972465855}, {\"index\": null, \"PC1\": null, \"PC2\": null, \"PC3\": null, \"PC4\": null, \"PC5\": null, \"PC6\": null, \"R2\": 0.4997376111815329, \"MAE\": 0.8553378174233998, \"MBE\": -0.0277462491324219, \"MAPE\": 2.6071035184288887, \"MSE\": 1.1386211380157245, \"MAXE\": 2.8086878122913976}, {\"index\": null, \"PC1\": null, \"PC2\": null, \"PC3\": null, \"PC4\": null, \"PC5\": null, \"PC6\": null, \"R2\": 0.4705285000131286, \"MAE\": 0.8740660329151717, \"MBE\": 0.02293406060759359, \"MAPE\": 2.667257816714467, \"MSE\": 1.2051024728958988, \"MAXE\": 3.2765279933981324}]}}, {\"mode\": \"vega-lite\"});\n",
       "</script>"
      ],
      "text/plain": [
       "alt.VConcatChart(...)"
      ]
     },
     "execution_count": 7,
     "metadata": {},
     "output_type": "execute_result"
    }
   ],
   "source": [
    "from ModelTools.tools.Pca import Pca \n",
    "Pca(data=m.Metric.get_metric(type='eval')).plot_bio()"
   ]
  }
 ],
 "metadata": {
  "kernelspec": {
   "display_name": "Python 3.10.4 ('dev')",
   "language": "python",
   "name": "python3"
  },
  "language_info": {
   "codemirror_mode": {
    "name": "ipython",
    "version": 3
   },
   "file_extension": ".py",
   "mimetype": "text/x-python",
   "name": "python",
   "nbconvert_exporter": "python",
   "pygments_lexer": "ipython3",
   "version": "3.10.4"
  },
  "orig_nbformat": 4,
  "vscode": {
   "interpreter": {
    "hash": "248aaaef2ce54d580c63d0621ea4262f68d22105863a800468921850ea527b06"
   }
  }
 },
 "nbformat": 4,
 "nbformat_minor": 2
}
