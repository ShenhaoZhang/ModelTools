{
 "cells": [
  {
   "cell_type": "code",
   "execution_count": null,
   "metadata": {},
   "outputs": [],
   "source": [
    "import sys as sys \n",
    "sys.path.append('..')\n",
    "\n",
    "import numpy as np \n",
    "import pandas as pd\n",
    "from ModelTools import MeanRegression\n",
    "import plotnine as gg\n"
   ]
  },
  {
   "cell_type": "markdown",
   "metadata": {},
   "source": [
    "### 通过控制得分函数的方法来选择不同的模型"
   ]
  },
  {
   "cell_type": "code",
   "execution_count": null,
   "metadata": {},
   "outputs": [],
   "source": [
    "n = 500\n",
    "rng = np.random.default_rng(0)\n",
    "x = rng.normal(size=n,loc=0,scale=0.5)\n",
    "y = rng.lognormal(mean=5*np.cos(x),sigma=0.5)\n",
    "df = pd.DataFrame(data={'x':x,'y':y,'ts':pd.date_range(start='2000-01-01',periods=n,freq='min')})\n",
    "\n",
    "fit_mse = MeanRegression(data=df,col_x=['x'],col_y='y',exp_model=False,cv_score='mse')\n",
    "fit_mse.fit().fit_final_model()\n",
    "\n",
    "fit_mdae = MeanRegression(data=df,col_x=['x'],col_y='y',exp_model=False,cv_score='mdae')\n",
    "fit_mdae.fit().fit_final_model()\n",
    "\n",
    "fit_mape = MeanRegression(data=df,col_x=['x'],col_y='y',exp_model=False,cv_score='mape')\n",
    "fit_mape.fit().fit_final_model()\n",
    "gg.options.figure_size = [15,5]\n",
    "(\n",
    "    gg.ggplot(data=df)\n",
    "    +gg.aes(x='x',y=y)\n",
    "    +gg.geom_point()\n",
    "    +gg.geom_line(gg.aes(y=fit_mse.predict(),color=\"'mse'\"),size=1)\n",
    "    +gg.geom_line(gg.aes(y=fit_mdae.predict(),color=\"'mdae'\"),size=1)\n",
    "    +gg.geom_line(gg.aes(y=fit_mape.predict(),color=\"'mape'\"),size=1)\n",
    ")"
   ]
  },
  {
   "cell_type": "code",
   "execution_count": null,
   "metadata": {},
   "outputs": [],
   "source": [
    "n = 500\n",
    "rng = np.random.default_rng(0)\n",
    "\n",
    "x1 = rng.normal(size=n,loc=0,scale=1)\n",
    "x2 = rng.normal(size=n,loc=0,scale=1)\n",
    "y = rng.normal(loc=x2+5,scale=0.5)\n",
    "# y = rng.lognormal(mean=x2,sigma=0.5)\n",
    "\n",
    "df = pd.DataFrame(data={'x1':x1,'x2':x2,'y':y,'ts':pd.date_range(start='2000-01-01',periods=n,freq='min')})\n",
    "\n",
    "# print(df)\n",
    "\n",
    "m = MeanRegression(data=df,col_x=['x2'],col_y='y',col_ts='ts',ts_freq='min',exp_model=False)\n",
    "m.fit(base=['lm'],best_model='OLS',best_model_only=True).fit_final_model()"
   ]
  },
  {
   "cell_type": "code",
   "execution_count": null,
   "metadata": {},
   "outputs": [],
   "source": [
    "m.final_model['OLS'].intercept_"
   ]
  },
  {
   "cell_type": "code",
   "execution_count": null,
   "metadata": {},
   "outputs": [],
   "source": [
    "import plotnine as gg\n",
    "\n",
    "(\n",
    "    gg.ggplot(data=df)\n",
    "    +gg.aes(x='x2',y=y)\n",
    "    +gg.geom_point()\n",
    "    +gg.geom_line(gg.aes(y=m.predict()),color='red',size=1)\n",
    ")"
   ]
  },
  {
   "cell_type": "code",
   "execution_count": null,
   "metadata": {},
   "outputs": [],
   "source": [
    "m.fit_final_model()\n",
    "x = m.predict_interval(type='confidence',n_bootstrap=1000)\n",
    "(\n",
    "    pd.DataFrame(x)\n",
    "    .assign(x=x2,mean=m.predict(),real=np.cos(x2),y=y)\n",
    "    .pipe(gg.ggplot)\n",
    "    +gg.aes(x='x')\n",
    "    + gg.geom_point(gg.aes(y='y'),alpha=0.1)\n",
    "    +gg.geom_line(gg.aes(y='real'),color='red')\n",
    "    +gg.geom_line(gg.aes(y='down'),color='green')\n",
    "    +gg.geom_line(gg.aes(y='high'),color='green')\n",
    ")"
   ]
  },
  {
   "cell_type": "code",
   "execution_count": null,
   "metadata": {},
   "outputs": [],
   "source": [
    "n = 500\n",
    "rng = np.random.default_rng(0)\n",
    "x1 = rng.uniform(-3,3,size=n)\n",
    "# y = rng.lognormal(mean=x1,sigma=0.1)\n",
    "y = rng.normal(loc=np.cos(x1)+1,scale=0.2)\n",
    "# y = rng.normal(loc=np.cos(x1)+1,scale=(x1-min(x1))/np.ptp(x1)+0.01)\n",
    "df = pd.DataFrame(data={'x1':x1,'y':y})\n",
    "\n",
    "# print(df)\n",
    "\n",
    "m = MeanRegression(data=df,col_x=['x1'],col_y='y',exp_model=False)\n",
    "m.fit(base=['lm'])\n",
    "m.fit_final_model()\n",
    "\n",
    "x = m.predict_interval(type='predict',n_bootstrap=100,alpha=0.01)\n",
    "(\n",
    "    pd.DataFrame(x)\n",
    "    .assign(x=x1,m=m.predict(),real=2*x1,y=y)\n",
    "    .pipe(gg.ggplot)\n",
    "    +gg.aes(x='x')\n",
    "    + gg.geom_point(gg.aes(y='y'),alpha=0.1)\n",
    "    # +gg.geom_line(gg.aes(y='real'),color='red')\n",
    "    +gg.geom_line(gg.aes(y='m'),color='yellow')\n",
    "    +gg.geom_line(gg.aes(y='down'),color='green')\n",
    "    +gg.geom_line(gg.aes(y='high'),color='blue')\n",
    ")"
   ]
  }
 ],
 "metadata": {
  "kernelspec": {
   "display_name": "Python 3.10.4 ('dev')",
   "language": "python",
   "name": "python3"
  },
  "language_info": {
   "codemirror_mode": {
    "name": "ipython",
    "version": 3
   },
   "file_extension": ".py",
   "mimetype": "text/x-python",
   "name": "python",
   "nbconvert_exporter": "python",
   "pygments_lexer": "ipython3",
   "version": "3.10.4"
  },
  "orig_nbformat": 4,
  "vscode": {
   "interpreter": {
    "hash": "51d1dde9815e14b572ed6a2db2168a981e549672a30f1365a915adb243fac457"
   }
  }
 },
 "nbformat": 4,
 "nbformat_minor": 2
}
