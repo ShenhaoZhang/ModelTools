{
 "cells": [
  {
   "cell_type": "code",
   "execution_count": null,
   "metadata": {},
   "outputs": [],
   "source": [
    "import sys as sys \n",
    "sys.path.append('..')\n",
    "\n",
    "import numpy as np \n",
    "import pandas as pd\n",
    "from ModelTools.model import CentralRegression,QuantileRegression\n",
    "import plotnine as gg\n"
   ]
  },
  {
   "cell_type": "code",
   "execution_count": null,
   "metadata": {},
   "outputs": [],
   "source": [
    "n = 500\n",
    "rng = np.random.default_rng(0)\n",
    "x1 = rng.normal(size=n,loc=0,scale=0.5)\n",
    "x2 = rng.normal(size=n,loc=0,scale=0.5)\n",
    "y = rng.normal(size=n,loc=2*np.cos(x1)+np.sin(x2)+2*x1*x2,scale=1)\n",
    "df = pd.DataFrame(data={'x1':x1,'x2':x2,'y':y,'ts':pd.date_range(start='2000-01-01',periods=n,freq='min')})\n",
    "\n",
    "mod1 = CentralRegression(data=df,col_x=['x1','x2'],col_y='y',exp_model=True,cv_score='mse',param_type='complete')\n",
    "mod1.fit()\n",
    "mod1.fit_final_model()"
   ]
  },
  {
   "cell_type": "code",
   "execution_count": null,
   "metadata": {},
   "outputs": [],
   "source": [
    "mod1 = CentralRegression(data=df,col_x=['x1','x2'],col_y='y',exp_model=True,cv_score='mse',param_type='fast')\n",
    "mod1.fit()\n",
    "mod1.fit_final_model()"
   ]
  },
  {
   "cell_type": "code",
   "execution_count": null,
   "metadata": {},
   "outputs": [],
   "source": [
    "mod1.MetricTest.plot_Pts()"
   ]
  },
  {
   "cell_type": "code",
   "execution_count": null,
   "metadata": {},
   "outputs": [],
   "source": [
    "mod1.MetricTest.plot_Rts()"
   ]
  },
  {
   "cell_type": "code",
   "execution_count": null,
   "metadata": {},
   "outputs": [],
   "source": [
    "mod1.check_novelty()"
   ]
  },
  {
   "cell_type": "code",
   "execution_count": null,
   "metadata": {},
   "outputs": [],
   "source": [
    "mod1.MetricTest.get_metric()"
   ]
  },
  {
   "cell_type": "code",
   "execution_count": null,
   "metadata": {},
   "outputs": [],
   "source": [
    "mod1.check_train_test_metric()"
   ]
  },
  {
   "cell_type": "code",
   "execution_count": null,
   "metadata": {},
   "outputs": [],
   "source": [
    "mod1.ExpFinal.marginal_effect()"
   ]
  },
  {
   "cell_type": "code",
   "execution_count": null,
   "metadata": {},
   "outputs": [],
   "source": [
    "x={}\n",
    "y = x.copy()\n",
    "y=y.update({'x':1,'y':2})\n",
    "y"
   ]
  }
 ],
 "metadata": {
  "kernelspec": {
   "display_name": "dev",
   "language": "python",
   "name": "python3"
  },
  "language_info": {
   "codemirror_mode": {
    "name": "ipython",
    "version": 3
   },
   "file_extension": ".py",
   "mimetype": "text/x-python",
   "name": "python",
   "nbconvert_exporter": "python",
   "pygments_lexer": "ipython3",
   "version": "3.9.15 (main, Nov 24 2022, 08:28:41) \n[Clang 14.0.6 ]"
  },
  "orig_nbformat": 4,
  "vscode": {
   "interpreter": {
    "hash": "e34af323e08c25905e0b2b867c8a99dbc7babef02ca4fe63b7576f6504dbd0e8"
   }
  }
 },
 "nbformat": 4,
 "nbformat_minor": 2
}
